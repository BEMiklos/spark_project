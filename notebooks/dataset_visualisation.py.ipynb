{
 "cells": [
  {
   "cell_type": "markdown",
   "source": [
    "# Bar Crawl: Detecting Heavy Drinking - Data Visualisation\n",
    "#### Accelerometer and transdermal alcohol content data from a college bar crawl. Used to predict heavy drinking episodes via mobile data\n",
    "[Source: http://ceur-ws.org/Vol-2429/paper6.pdf](http://ceur-ws.org/Vol-2429/paper6.pdf)"
   ],
   "metadata": {
    "collapsed": false
   },
   "id": "42647571dc339252"
  },
  {
   "cell_type": "markdown",
   "source": [
    "#### Features: Three-axis time series accelerometer data\n",
    "#### Target: Time series transdermal alcohol content (TAC) data (real-time measure of intoxication)\n",
    "The study decomposed each time series into 10 second windows and performed binary classification to predict if windows corresponded to an intoxicated participant (TAC >= 0.08) or sober participant (TAC < 0.08). The study tested several models and achieved a test accuracy of 77.5% with a random forest."
   ],
   "metadata": {
    "collapsed": false
   },
   "id": "7ba3cb55e7c98fe"
  },
  {
   "cell_type": "code",
   "outputs": [],
   "source": [
    "import numpy as np\n",
    "\n",
    "# Since my computer has limited resources (24GB RAM, 8 cores), I must aggregate the data to accelerate the notebook\n",
    "AGGREGATE = 50"
   ],
   "metadata": {
    "collapsed": false,
    "ExecuteTime": {
     "end_time": "2025-02-05T11:24:08.525803656Z",
     "start_time": "2025-02-05T11:24:08.523241408Z"
    }
   },
   "id": "2b9fb5290c8b2ee5",
   "execution_count": 1
  },
  {
   "cell_type": "code",
   "outputs": [],
   "source": [
    "from pyspark.sql import SparkSession\n",
    "from pyspark.sql.functions import input_file_name, regexp_replace, collect_list, row_number, floor, avg, lit, coalesce, first, last, array\n",
    "from pyspark.sql.functions import min, max\n",
    "from pyspark.sql.functions import when, col\n",
    "from pyspark.sql.window import Window\n",
    "from pyspark.sql import functions as F\n",
    "\n",
    "from pyspark.ml.feature import VectorAssembler\n",
    "from pyspark.ml.linalg import Vectors"
   ],
   "metadata": {
    "collapsed": true,
    "ExecuteTime": {
     "end_time": "2025-02-05T12:08:29.488949559Z",
     "start_time": "2025-02-05T12:08:29.434862727Z"
    }
   },
   "id": "initial_id",
   "execution_count": 63
  },
  {
   "cell_type": "code",
   "outputs": [
    {
     "name": "stderr",
     "output_type": "stream",
     "text": [
      "25/02/05 12:24:10 WARN Utils: Your hostname, pop-os resolves to a loopback address: 127.0.0.1; using 192.168.1.62 instead (on interface wlp61s0)\n",
      "25/02/05 12:24:10 WARN Utils: Set SPARK_LOCAL_IP if you need to bind to another address\n",
      "Setting default log level to \"WARN\".\n",
      "To adjust logging level use sc.setLogLevel(newLevel). For SparkR, use setLogLevel(newLevel).\n",
      "25/02/05 12:24:10 WARN NativeCodeLoader: Unable to load native-hadoop library for your platform... using builtin-java classes where applicable\n"
     ]
    }
   ],
   "source": [
    "# Initialise SparkSession\n",
    "spark = SparkSession.builder.appName(\"heavy_drinking_project\").config(\"spark.hadop.fs.defaultFS\",\"hdfs://localhost:9000\").getOrCreate()"
   ],
   "metadata": {
    "collapsed": false,
    "ExecuteTime": {
     "end_time": "2025-02-05T11:24:12.187658141Z",
     "start_time": "2025-02-05T11:24:08.858513013Z"
    }
   },
   "id": "7e5d7888db5684b",
   "execution_count": 3
  },
  {
   "cell_type": "code",
   "outputs": [
    {
     "name": "stderr",
     "output_type": "stream",
     "text": [
      "                                                                                \r"
     ]
    }
   ],
   "source": [
    "# Load data from HDFS\n",
    "accelerometer_data = spark.read.csv(\"hdfs://localhost:9000/heavy_drinking_project/all_accelerometer_data_pids_13.csv\", header=True, inferSchema=True)\n",
    "# Display first 5 rows of data\n",
    "#accelerometer_data.show(5)"
   ],
   "metadata": {
    "collapsed": false,
    "ExecuteTime": {
     "end_time": "2025-02-05T11:24:27.019768590Z",
     "start_time": "2025-02-05T11:24:12.144906542Z"
    }
   },
   "id": "c5fc108836b1a2cc",
   "execution_count": 4
  },
  {
   "cell_type": "code",
   "outputs": [],
   "source": [
    "# Aggregation - Groupby by 50 rows, avg on values, partition by pid\n",
    "window_spec = Window.partitionBy(\"pid\").orderBy(\"time\")\n",
    "accelerometer_data = accelerometer_data.withColumn(\"row_num\", row_number().over(window_spec))\n",
    "accelerometer_data = accelerometer_data.withColumn(\"group_num\", floor((col(\"row_num\") - 1) / AGGREGATE))\n",
    "accelerometer_data = accelerometer_data.groupBy(\"pid\", \"group_num\").agg(\n",
    "    F.avg(\"x\").alias(\"x\"),\n",
    "    F.avg(\"y\").alias(\"y\"),\n",
    "    F.avg(\"z\").alias(\"z\"),\n",
    "    F.min(\"time\").alias(\"time\")\n",
    ")\n",
    "# Delete group_num column\n",
    "accelerometer_data = accelerometer_data.drop(\"group_num\")"
   ],
   "metadata": {
    "collapsed": false,
    "ExecuteTime": {
     "end_time": "2025-02-05T11:24:27.278100318Z",
     "start_time": "2025-02-05T11:24:27.022260114Z"
    }
   },
   "id": "e2330d70e0f21389",
   "execution_count": 5
  },
  {
   "cell_type": "code",
   "outputs": [],
   "source": [
    "# I have also selected just one of the pid's for acceleration purposes - but since I am using partition, they never get mixed\n",
    "#accelerometer_data = accelerometer_data.filter((accelerometer_data[\"pid\"] == \"SA0297\") | (accelerometer_data[\"pid\"] == \"BK7610\"))\n",
    "accelerometer_data = accelerometer_data.filter((accelerometer_data[\"pid\"] == \"SA0297\"))"
   ],
   "metadata": {
    "collapsed": false,
    "ExecuteTime": {
     "end_time": "2025-02-05T11:24:27.281655228Z",
     "start_time": "2025-02-05T11:24:27.169469318Z"
    }
   },
   "id": "ca0c9f43f26257b8",
   "execution_count": 6
  },
  {
   "cell_type": "code",
   "outputs": [],
   "source": [
    "#accelerometer_data.describe().show()"
   ],
   "metadata": {
    "collapsed": false,
    "ExecuteTime": {
     "end_time": "2025-02-05T11:24:27.308635524Z",
     "start_time": "2025-02-05T11:24:27.183547743Z"
    }
   },
   "id": "c0f96c3a9d2a05c2",
   "execution_count": 7
  },
  {
   "cell_type": "code",
   "outputs": [],
   "source": [
    "# Number of rows where time in 0\n",
    "# accelerometer_data.filter(accelerometer_data[\"time\"] == 0).count()\n",
    "# Drop rows where time is 0\n",
    "accelerometer_data = accelerometer_data.filter(accelerometer_data[\"time\"] != 0)"
   ],
   "metadata": {
    "collapsed": false,
    "ExecuteTime": {
     "end_time": "2025-02-05T11:24:27.316752538Z",
     "start_time": "2025-02-05T11:24:27.186644283Z"
    }
   },
   "id": "809354c864910d2",
   "execution_count": 8
  },
  {
   "cell_type": "code",
   "outputs": [],
   "source": [
    "#accelerometer_data.select(\"pid\").distinct().count()"
   ],
   "metadata": {
    "collapsed": false,
    "ExecuteTime": {
     "end_time": "2025-02-05T11:24:27.348148080Z",
     "start_time": "2025-02-05T11:24:27.209260738Z"
    }
   },
   "id": "be2be3a3dddb4e00",
   "execution_count": 9
  },
  {
   "cell_type": "markdown",
   "source": [
    "What can we observe first:\n",
    "- Here the time is measured in milliseconds\n",
    "- They have different starting and ending times, might occure shorter, or longer breaks"
   ],
   "metadata": {
    "collapsed": false
   },
   "id": "915bf3b2c030a5a5"
  },
  {
   "cell_type": "code",
   "outputs": [
    {
     "name": "stderr",
     "output_type": "stream",
     "text": [
      "                                                                                \r"
     ]
    }
   ],
   "source": [
    "# Min-max values of time / pid\n",
    "acc_mean_max = accelerometer_data.groupBy(\"pid\").agg(\n",
    "    min(\"time\").alias(\"min_value\"),\n",
    "    max(\"time\").alias(\"max_value\")\n",
    ")\n",
    "acc_mean_max_value = acc_mean_max.collect()"
   ],
   "metadata": {
    "collapsed": false,
    "ExecuteTime": {
     "end_time": "2025-02-05T11:24:36.166959478Z",
     "start_time": "2025-02-05T11:24:27.214784363Z"
    }
   },
   "id": "f27531fa60aa1bb2",
   "execution_count": 10
  },
  {
   "cell_type": "code",
   "outputs": [],
   "source": [
    "#for row in acc_mean_max_value:\n",
    "#    print(\"pid: \", row.pid, \"min_value: \", row.min_value, \"max_value: \", row.max_value)"
   ],
   "metadata": {
    "collapsed": false,
    "ExecuteTime": {
     "end_time": "2025-02-05T11:24:36.219207035Z",
     "start_time": "2025-02-05T11:24:36.167274241Z"
    }
   },
   "id": "bac59c7d468579e3",
   "execution_count": 11
  },
  {
   "cell_type": "code",
   "outputs": [],
   "source": [
    "# Display statistics of data\n",
    "# accelerometer_data.describe().show()"
   ],
   "metadata": {
    "collapsed": false,
    "ExecuteTime": {
     "end_time": "2025-02-05T11:24:36.265012915Z",
     "start_time": "2025-02-05T11:24:36.172487473Z"
    }
   },
   "id": "f23177799095d133",
   "execution_count": 12
  },
  {
   "cell_type": "markdown",
   "source": [
    "Let\"s examine the TAC data (the labels) as well"
   ],
   "metadata": {
    "collapsed": false
   },
   "id": "f0ad4b360bc69178"
  },
  {
   "cell_type": "code",
   "outputs": [],
   "source": [
    "# Load data from HDFS\n",
    "tac_data = spark.read.csv(\"hdfs://localhost:9000/heavy_drinking_project/clean_tac\", header=True, inferSchema=True)\n",
    "# Display first 5 rows of data\n",
    "#tac_data.show(5)"
   ],
   "metadata": {
    "collapsed": false,
    "ExecuteTime": {
     "end_time": "2025-02-05T11:24:36.536885973Z",
     "start_time": "2025-02-05T11:24:36.180444346Z"
    }
   },
   "id": "e12996b27f366cf0",
   "execution_count": 13
  },
  {
   "cell_type": "markdown",
   "source": [
    "Készítsünk plotot, hogy hogyan változott a TAC, és mikor voltak a mérések"
   ],
   "metadata": {
    "collapsed": false
   },
   "id": "f379b29df0660601"
  },
  {
   "cell_type": "code",
   "outputs": [],
   "source": [
    "tac_data = tac_data.withColumn(\"timestamp\", (col(\"timestamp\").cast(\"long\") * 1000))"
   ],
   "metadata": {
    "collapsed": false,
    "ExecuteTime": {
     "end_time": "2025-02-05T11:24:36.592437811Z",
     "start_time": "2025-02-05T11:24:36.519678746Z"
    }
   },
   "id": "66963333684e5f40",
   "execution_count": 14
  },
  {
   "cell_type": "code",
   "outputs": [],
   "source": [
    "tac_data=tac_data.withColumn(\"pid\", input_file_name())\n",
    "# Clean up the source_file column: remove prefix and suffix\n",
    "tac_data = tac_data.withColumn(\n",
    "    \"pid\",\n",
    "    regexp_replace(tac_data[\"pid\"], r\"hdfs://localhost:9000/heavy_drinking_project/clean_tac/|\\_clean_TAC.csv\", \"\")\n",
    ")\n",
    "# tac_data.show(5)"
   ],
   "metadata": {
    "collapsed": false,
    "ExecuteTime": {
     "end_time": "2025-02-05T11:24:36.654478162Z",
     "start_time": "2025-02-05T11:24:36.543423710Z"
    }
   },
   "id": "b136598f63276203",
   "execution_count": 15
  },
  {
   "cell_type": "code",
   "outputs": [],
   "source": [
    "tac_data = tac_data.withColumn(\n",
    "    \"label\",\n",
    "    when(col(\"TAC_Reading\") >= 0.08, 1).otherwise(0)\n",
    ")\n",
    "# tac_data.show(5)"
   ],
   "metadata": {
    "collapsed": false,
    "ExecuteTime": {
     "end_time": "2025-02-05T11:24:36.684789959Z",
     "start_time": "2025-02-05T11:24:36.566985544Z"
    }
   },
   "id": "a66e15c2fb08460e",
   "execution_count": 16
  },
  {
   "cell_type": "code",
   "outputs": [],
   "source": [
    "#tac_data.describe().show()"
   ],
   "metadata": {
    "collapsed": false,
    "ExecuteTime": {
     "end_time": "2025-02-05T11:24:36.701242934Z",
     "start_time": "2025-02-05T11:24:36.595899705Z"
    }
   },
   "id": "f796a499c3506f7d",
   "execution_count": 17
  },
  {
   "cell_type": "code",
   "outputs": [],
   "source": [
    "tac_data = tac_data.filter(tac_data[\"pid\"] == \"SA0297\")"
   ],
   "metadata": {
    "collapsed": false,
    "ExecuteTime": {
     "end_time": "2025-02-05T11:24:36.706793498Z",
     "start_time": "2025-02-05T11:24:36.603261261Z"
    }
   },
   "id": "68714077b819d66f",
   "execution_count": 18
  },
  {
   "cell_type": "code",
   "outputs": [],
   "source": [
    "# Rename column timestamp to time\n",
    "tac_data = tac_data.withColumnRenamed(\"timestamp\", \"time\")\n",
    "# Join accelerometer and tac data by time and pid\n",
    "joined_data = accelerometer_data.join(tac_data, [\"time\", \"pid\"], \"inner\")"
   ],
   "metadata": {
    "collapsed": false,
    "ExecuteTime": {
     "end_time": "2025-02-05T11:24:36.774467075Z",
     "start_time": "2025-02-05T11:24:36.644415101Z"
    }
   },
   "id": "75a98f6a2d1bddc9",
   "execution_count": 19
  },
  {
   "cell_type": "code",
   "outputs": [],
   "source": [
    "#joined_data.show(5)"
   ],
   "metadata": {
    "collapsed": false,
    "ExecuteTime": {
     "end_time": "2025-02-05T11:24:36.835629253Z",
     "start_time": "2025-02-05T11:24:36.659385206Z"
    }
   },
   "id": "f9d0b4a04553c55c",
   "execution_count": 20
  },
  {
   "cell_type": "code",
   "outputs": [],
   "source": [
    "# Select time and pid from tac_data, where time is not in accelerometer_data\n",
    "missing_data = tac_data.join(accelerometer_data, [\"time\", \"pid\"], \"left_anti\")"
   ],
   "metadata": {
    "collapsed": false,
    "ExecuteTime": {
     "end_time": "2025-02-05T11:24:36.904995269Z",
     "start_time": "2025-02-05T11:24:36.663949400Z"
    }
   },
   "id": "5a768cbd9be13e9b",
   "execution_count": 21
  },
  {
   "cell_type": "code",
   "outputs": [],
   "source": [
    "#missing_data.describe().show()"
   ],
   "metadata": {
    "collapsed": false,
    "ExecuteTime": {
     "end_time": "2025-02-05T11:24:36.981328850Z",
     "start_time": "2025-02-05T11:24:36.704286868Z"
    }
   },
   "id": "d530943e8d40a3db",
   "execution_count": 22
  },
  {
   "cell_type": "code",
   "outputs": [
    {
     "name": "stderr",
     "output_type": "stream",
     "text": [
      "                                                                                \r"
     ]
    },
    {
     "name": "stdout",
     "output_type": "stream",
     "text": [
      "pid:  SA0297 min_value:  1493716723000 max_value:  1493806094000\n"
     ]
    }
   ],
   "source": [
    "# Min-max values of time / pid\n",
    "missing_mean_max = missing_data.groupBy(\"pid\").agg(\n",
    "    min(\"time\").alias(\"min_value\"),\n",
    "    max(\"time\").alias(\"max_value\")\n",
    ")\n",
    "missing_mean_max_value = missing_mean_max.collect()\n",
    "# Show min-max values of time / pid\n",
    "for row in missing_mean_max_value:\n",
    "    print(\"pid: \", row.pid, \"min_value: \", row.min_value, \"max_value: \", row.max_value)"
   ],
   "metadata": {
    "collapsed": false,
    "ExecuteTime": {
     "end_time": "2025-02-05T11:24:44.723752170Z",
     "start_time": "2025-02-05T11:24:36.704417096Z"
    }
   },
   "id": "7c3e203929e68ce3",
   "execution_count": 23
  },
  {
   "cell_type": "code",
   "outputs": [],
   "source": [
    "# For every pid, delete records from missing_data where missing_row.pid==acc_row.pid, missing_df[time] is less than acc_row.min_value or greater than acc_row.max_value\n",
    "filtered_missing_data = spark.createDataFrame([], missing_data.schema)\n",
    "for row in acc_mean_max_value:\n",
    "    filtered = missing_data.filter((missing_data[\"pid\"] == row.pid) & (missing_data[\"time\"] >= row.min_value) & (missing_data[\"time\"] <= row.max_value))\n",
    "    filtered_missing_data = filtered_missing_data.union(filtered)"
   ],
   "metadata": {
    "collapsed": false,
    "ExecuteTime": {
     "end_time": "2025-02-05T11:24:45.064914963Z",
     "start_time": "2025-02-05T11:24:44.723772514Z"
    }
   },
   "id": "6431b5d77fbb2edd",
   "execution_count": 24
  },
  {
   "cell_type": "code",
   "outputs": [
    {
     "name": "stderr",
     "output_type": "stream",
     "text": [
      "                                                                                \r"
     ]
    }
   ],
   "source": [
    "# Min-max values of time / pid\n",
    "filtered_min_max = filtered_missing_data.groupBy(\"pid\").agg(\n",
    "    min(\"time\").alias(\"min_value\"),\n",
    "    max(\"time\").alias(\"max_value\")\n",
    ")\n",
    "filtered_min_max_value = filtered_min_max.collect()"
   ],
   "metadata": {
    "collapsed": false,
    "ExecuteTime": {
     "end_time": "2025-02-05T11:24:53.334970321Z",
     "start_time": "2025-02-05T11:24:45.071091987Z"
    }
   },
   "id": "f6eea82de583600d",
   "execution_count": 25
  },
  {
   "cell_type": "code",
   "outputs": [
    {
     "name": "stdout",
     "output_type": "stream",
     "text": [
      "pid:  SA0297 min_value:  1493734448000 max_value:  1493806094000\n"
     ]
    }
   ],
   "source": [
    "for row in filtered_min_max_value:\n",
    "    print(\"pid: \", row.pid, \"min_value: \", row.min_value, \"max_value: \", row.max_value)"
   ],
   "metadata": {
    "collapsed": false,
    "ExecuteTime": {
     "end_time": "2025-02-05T11:24:53.410814973Z",
     "start_time": "2025-02-05T11:24:53.330914977Z"
    }
   },
   "id": "56367c5f51dcf44c",
   "execution_count": 26
  },
  {
   "cell_type": "code",
   "outputs": [],
   "source": [
    "missing_data = filtered_missing_data"
   ],
   "metadata": {
    "collapsed": false,
    "ExecuteTime": {
     "end_time": "2025-02-05T11:24:53.492411453Z",
     "start_time": "2025-02-05T11:24:53.336464035Z"
    }
   },
   "id": "32dc6f06be7962b9",
   "execution_count": 27
  },
  {
   "cell_type": "code",
   "outputs": [],
   "source": [
    "# Add columns x, y, z to missing_data with null values\n",
    "missing_data = missing_data \\\n",
    "    .withColumn(\"id\", lit(0).cast(\"int\")) \\\n",
    "    .withColumn(\"x\", lit(None).cast(\"double\")) \\\n",
    "    .withColumn(\"y\", lit(None).cast(\"double\")) \\\n",
    "    .withColumn(\"z\", lit(None).cast(\"double\"))\n",
    "# missing_data.show(5)"
   ],
   "metadata": {
    "collapsed": false,
    "ExecuteTime": {
     "end_time": "2025-02-05T11:24:53.553018323Z",
     "start_time": "2025-02-05T11:24:53.349424172Z"
    }
   },
   "id": "3325a50db4c31e4b",
   "execution_count": 28
  },
  {
   "cell_type": "code",
   "outputs": [],
   "source": [
    "accelerometer_data = accelerometer_data \\\n",
    "    .withColumn(\"TAC_Reading\", lit(None).cast(\"double\")) \\\n",
    "    .withColumn(\"label\", lit(None).cast(\"int\"))"
   ],
   "metadata": {
    "collapsed": false,
    "ExecuteTime": {
     "end_time": "2025-02-05T11:24:53.587199622Z",
     "start_time": "2025-02-05T11:24:53.419639176Z"
    }
   },
   "id": "df5582556d28e0f7",
   "execution_count": 29
  },
  {
   "cell_type": "code",
   "outputs": [],
   "source": [
    "# Add missing_data to accelerometer_data, the order of columns might differ\n",
    "missing_data = missing_data.select(accelerometer_data.columns)\n",
    "accelerometer_data = accelerometer_data.union(missing_data)"
   ],
   "metadata": {
    "collapsed": false,
    "ExecuteTime": {
     "end_time": "2025-02-05T11:24:53.724390349Z",
     "start_time": "2025-02-05T11:24:53.458374404Z"
    }
   },
   "id": "fcda973c415460",
   "execution_count": 30
  },
  {
   "cell_type": "code",
   "outputs": [],
   "source": [
    "# Update row number\n",
    "window_spec = Window.partitionBy(\"pid\").orderBy(\"time\")\n",
    "accelerometer_data = accelerometer_data.withColumn(\"id\", row_number().over(window_spec))"
   ],
   "metadata": {
    "collapsed": false,
    "ExecuteTime": {
     "end_time": "2025-02-05T11:24:53.753598196Z",
     "start_time": "2025-02-05T11:24:53.509824228Z"
    }
   },
   "id": "639dabd087349fb8",
   "execution_count": 31
  },
  {
   "cell_type": "code",
   "outputs": [],
   "source": [
    "#missing_data.describe().show()"
   ],
   "metadata": {
    "collapsed": false,
    "ExecuteTime": {
     "end_time": "2025-02-05T11:24:53.756773900Z",
     "start_time": "2025-02-05T11:24:53.539367428Z"
    }
   },
   "id": "da93106c33120b05",
   "execution_count": 32
  },
  {
   "cell_type": "code",
   "outputs": [],
   "source": [
    "#accelerometer_data.describe().show()"
   ],
   "metadata": {
    "collapsed": false,
    "ExecuteTime": {
     "end_time": "2025-02-05T11:24:53.761114937Z",
     "start_time": "2025-02-05T11:24:53.542857823Z"
    }
   },
   "id": "34f67e9379883650",
   "execution_count": 33
  },
  {
   "cell_type": "code",
   "outputs": [],
   "source": [
    "# Sort data by pid and time\n",
    "accelerometer_data = accelerometer_data.orderBy(\"pid\", \"time\")"
   ],
   "metadata": {
    "collapsed": false,
    "ExecuteTime": {
     "end_time": "2025-02-05T11:24:53.791306702Z",
     "start_time": "2025-02-05T11:24:53.550128161Z"
    }
   },
   "id": "9768365f2cc3eca3",
   "execution_count": 34
  },
  {
   "cell_type": "markdown",
   "source": [
    "Partitiók használata"
   ],
   "metadata": {
    "collapsed": false
   },
   "id": "8bd61f26aa5929c7"
  },
  {
   "cell_type": "code",
   "outputs": [],
   "source": [
    "# Define a window for previous and next records\n",
    "window_spec = Window.partitionBy(\"pid\").orderBy(\"time\").rowsBetween(-1, 1)"
   ],
   "metadata": {
    "collapsed": false,
    "ExecuteTime": {
     "end_time": "2025-02-05T11:24:53.818784428Z",
     "start_time": "2025-02-05T11:24:53.574269191Z"
    }
   },
   "id": "1d15d95415cc4bd2",
   "execution_count": 35
  },
  {
   "cell_type": "code",
   "outputs": [],
   "source": [
    "# If null, then avg of col\n",
    "accelerometer_data = accelerometer_data.withColumn(\n",
    "    \"x\",\n",
    "    coalesce(accelerometer_data[\"x\"], avg(\"x\").over(window_spec))\n",
    ").withColumn(\n",
    "    \"y\",\n",
    "    coalesce(accelerometer_data[\"y\"], avg(\"y\").over(window_spec))\n",
    ").withColumn(\n",
    "    \"z\",\n",
    "    coalesce(accelerometer_data[\"z\"], avg(\"z\").over(window_spec))\n",
    ")"
   ],
   "metadata": {
    "collapsed": false,
    "ExecuteTime": {
     "end_time": "2025-02-05T11:24:53.880338459Z",
     "start_time": "2025-02-05T11:24:53.615328551Z"
    }
   },
   "id": "710a9fa90afd96c4",
   "execution_count": 36
  },
  {
   "cell_type": "code",
   "outputs": [],
   "source": [
    "#accelerometer_data.describe().show()"
   ],
   "metadata": {
    "collapsed": false,
    "ExecuteTime": {
     "end_time": "2025-02-05T11:24:53.884707100Z",
     "start_time": "2025-02-05T11:24:53.668391609Z"
    }
   },
   "id": "a2a9a7b21d52c37d",
   "execution_count": 37
  },
  {
   "cell_type": "code",
   "outputs": [],
   "source": [
    "# Drop rows where x, y, z is null\n",
    "accelerometer_data = accelerometer_data.filter(accelerometer_data[\"x\"].isNotNull() & accelerometer_data[\"y\"].isNotNull() & accelerometer_data[\"z\"].isNotNull())"
   ],
   "metadata": {
    "collapsed": false,
    "ExecuteTime": {
     "end_time": "2025-02-05T11:24:53.918329851Z",
     "start_time": "2025-02-05T11:24:53.709306552Z"
    }
   },
   "id": "a91b0c8463729d7f",
   "execution_count": 38
  },
  {
   "cell_type": "code",
   "outputs": [
    {
     "name": "stderr",
     "output_type": "stream",
     "text": [
      "                                                                                \r"
     ]
    }
   ],
   "source": [
    "# Add new row, with mintime-1 and maxtime+1\n",
    "for row in acc_mean_max_value:\n",
    "    new_row = spark.createDataFrame([(row.pid, 0.0, 0.0, 0.0, row.min_value - 1, 0.0, 0, 0), (row.pid, 0.0, 0.0, 0.0, row.max_value + 1, 0.0,0, accelerometer_data.filter(accelerometer_data[\"pid\"] == row.pid).count())], accelerometer_data.schema)\n",
    "    accelerometer_data = accelerometer_data.union(new_row)"
   ],
   "metadata": {
    "collapsed": false,
    "ExecuteTime": {
     "end_time": "2025-02-05T11:25:10.912595222Z",
     "start_time": "2025-02-05T11:24:53.709464256Z"
    }
   },
   "id": "696ce6148837448c",
   "execution_count": 39
  },
  {
   "cell_type": "code",
   "outputs": [],
   "source": [
    "window_spec_prev = Window.partitionBy(\"pid\").orderBy(\"time\").rowsBetween(Window.unboundedPreceding, Window.currentRow)\n",
    "window_spec_next = Window.partitionBy(\"pid\").orderBy(\"time\").rowsBetween(Window.currentRow, Window.unboundedFollowing)"
   ],
   "metadata": {
    "collapsed": false,
    "ExecuteTime": {
     "end_time": "2025-02-05T11:25:10.990060799Z",
     "start_time": "2025-02-05T11:25:10.912829170Z"
    }
   },
   "id": "7c2d7bb72307a9e2",
   "execution_count": 40
  },
  {
   "cell_type": "code",
   "outputs": [],
   "source": [
    "accelerometer_data = accelerometer_data.withColumn(\"prev_tac\", last(\"TAC_Reading\", ignorenulls=True).over(window_spec_prev))\n",
    "accelerometer_data = accelerometer_data.withColumn(\"prev_index\", last(when(col(\"TAC_Reading\").isNotNull(), col(\"id\")), ignorenulls=True).over(window_spec_prev))\n",
    "accelerometer_data = accelerometer_data.withColumn(\"next_tac\", first(\"TAC_Reading\", ignorenulls=True).over(window_spec_next))\n",
    "accelerometer_data = accelerometer_data.withColumn(\"next_index\", first(when(col(\"TAC_Reading\").isNotNull(), col(\"id\")), ignorenulls=True).over(window_spec_next))"
   ],
   "metadata": {
    "collapsed": false,
    "ExecuteTime": {
     "end_time": "2025-02-05T11:25:11.116712856Z",
     "start_time": "2025-02-05T11:25:10.935401276Z"
    }
   },
   "id": "a3ce4fab2a007d95",
   "execution_count": 41
  },
  {
   "cell_type": "code",
   "outputs": [],
   "source": [
    "accelerometer_data = accelerometer_data.withColumn(\"count_since_prev\", col(\"id\") - col(\"prev_index\"))\n",
    "accelerometer_data = accelerometer_data.withColumn(\"count_until_next\", col(\"next_index\") - col(\"id\"))\n",
    "\n",
    "accelerometer_data = accelerometer_data.withColumn(\"pos_ratio\", col(\"count_since_prev\") / (col(\"count_since_prev\") + col(\"count_until_next\")))"
   ],
   "metadata": {
    "collapsed": false,
    "ExecuteTime": {
     "end_time": "2025-02-05T11:25:11.171396344Z",
     "start_time": "2025-02-05T11:25:11.028905724Z"
    }
   },
   "id": "47b5a6031a547713",
   "execution_count": 42
  },
  {
   "cell_type": "code",
   "outputs": [],
   "source": [
    "accelerometer_data = accelerometer_data.withColumn(\"TAC_Reading\", when(col(\"TAC_Reading\").isNotNull(), col(\"TAC_Reading\")).otherwise(col(\"prev_tac\") + (col(\"next_tac\") - col(\"prev_tac\")) * col(\"pos_ratio\")))"
   ],
   "metadata": {
    "collapsed": false,
    "ExecuteTime": {
     "end_time": "2025-02-05T11:25:11.244613450Z",
     "start_time": "2025-02-05T11:25:11.082355899Z"
    }
   },
   "id": "51c7919ae0c782c8",
   "execution_count": 43
  },
  {
   "cell_type": "code",
   "outputs": [],
   "source": [
    "# Drop columns for calculating interpolated_tac\n",
    "accelerometer_data = accelerometer_data.drop(\"prev_tac\", \"prev_index\", \"next_tac\", \"next_index\", \"count_since_prev\", \"count_until_next\", \"pos_ratio\")"
   ],
   "metadata": {
    "collapsed": false,
    "ExecuteTime": {
     "end_time": "2025-02-05T11:25:11.303038978Z",
     "start_time": "2025-02-05T11:25:11.109810995Z"
    }
   },
   "id": "eaf96a225a8532fd",
   "execution_count": 44
  },
  {
   "cell_type": "code",
   "outputs": [],
   "source": [
    "#accelerometer_data.filter(accelerometer_data[\"time\"] >= \"1493734446000\").show(5)"
   ],
   "metadata": {
    "collapsed": false,
    "ExecuteTime": {
     "end_time": "2025-02-05T11:25:11.306708665Z",
     "start_time": "2025-02-05T11:25:11.123401850Z"
    }
   },
   "id": "c63aa2f7c222f28a",
   "execution_count": 45
  },
  {
   "cell_type": "code",
   "outputs": [],
   "source": [
    "# Label data\n",
    "accelerometer_data = accelerometer_data.withColumn(\"label\", when(col(\"TAC_Reading\") >= 0.08, 1).otherwise(0))"
   ],
   "metadata": {
    "collapsed": false,
    "ExecuteTime": {
     "end_time": "2025-02-05T11:25:11.312283232Z",
     "start_time": "2025-02-05T11:25:11.127825453Z"
    }
   },
   "id": "d3552ffc254f49f8",
   "execution_count": 46
  },
  {
   "cell_type": "markdown",
   "source": [
    "muszály osztani az időt 25/50-el, mivel ez így nem fog lefutni"
   ],
   "metadata": {
    "collapsed": false
   },
   "id": "2825b834c27ddce4"
  },
  {
   "cell_type": "code",
   "outputs": [],
   "source": [
    "# Save data to HDFS\n",
    "#accelerometer_data.write.csv(\"hdfs://localhost:9000/heavy_drinking_project/accelerometer_data.csv\", header=True)"
   ],
   "metadata": {
    "collapsed": false,
    "ExecuteTime": {
     "end_time": "2025-02-05T11:25:11.353417193Z",
     "start_time": "2025-02-05T11:25:11.146975518Z"
    }
   },
   "id": "4da33a0fe245cd30",
   "execution_count": 47
  },
  {
   "cell_type": "markdown",
   "source": [
    "# Coding"
   ],
   "metadata": {
    "collapsed": false
   },
   "id": "bdde12ed9faa8e56"
  },
  {
   "cell_type": "code",
   "outputs": [
    {
     "name": "stderr",
     "output_type": "stream",
     "text": [
      "[Stage 118:>                                                        (0 + 1) / 1]\r"
     ]
    },
    {
     "name": "stdout",
     "output_type": "stream",
     "text": [
      "+------+--------------------+--------------------+--------------------+-------------+--------------------+-----+---+\n",
      "|   pid|                   x|                   y|                   z|         time|         TAC_Reading|label| id|\n",
      "+------+--------------------+--------------------+--------------------+-------------+--------------------+-----+---+\n",
      "|SA0297|                 0.0|                 0.0|                 0.0|1493733882408|                 0.0|    0|  0|\n",
      "|SA0297|-0.02039999999999999|-0.00200199999999...|-0.00549400000000...|1493733882409|1.498731297848257E-4|    0|  1|\n",
      "|SA0297|8.480000000000006E-4|-0.00220600000000...|-0.00357400000000...|1493733884715|2.997462595696514E-4|    0|  2|\n",
      "|SA0297|0.002445999999999999|              0.0052|-0.00558799999999...|1493733886976|4.496193893544771E-4|    0|  3|\n",
      "|SA0297|-5.32000000000000...|           -0.001226|-0.00104200000000...|1493733889237|5.994925191393028E-4|    0|  4|\n",
      "|SA0297|             -7.8E-4|-9.40000000000000...|           -0.002962|1493733891503|7.493656489241285E-4|    0|  5|\n",
      "|SA0297|-2.94000000000000...|4.860000000000000...|-0.00257199999999...|1493733893753|8.992387787089542E-4|    0|  6|\n",
      "|SA0297|0.041339999999999995|0.003189999999999...|           -0.012306|1493733896004| 0.00104911190849378|    0|  7|\n",
      "|SA0297|-0.00817399999999...|0.002858000000000001|0.019887999999999996|1493733898264|0.001198985038278...|    0|  8|\n",
      "|SA0297|-6.01999999999999...|7.020000000000001E-4|           -0.003108|1493733900529|0.001348858168063...|    0|  9|\n",
      "|SA0297|            0.004312|0.001184000000000...|-0.00677199999999...|1493733902791|0.001498731297848257|    0| 10|\n",
      "|SA0297|-2.65999999999999...|8.799999999999992E-5|-0.00294999999999...|1493733905142|0.001648604427633...|    0| 11|\n",
      "|SA0297|-1.89999999999999...|5.799999999999999E-4|-0.00328199999999...|1493733907408|0.001798477557417...|    0| 12|\n",
      "|SA0297|2.919999999999999E-4|-2.65999999999999...|-0.00311199999999...|1493733909668|0.001948350687202...|    0| 13|\n",
      "|SA0297|             4.74E-4|-1.19999999999999...|-0.00288400000000...|1493733911924| 0.00209822381698756|    0| 14|\n",
      "|SA0297|-1.45999999999999...|2.120000000000000...|-0.00248199999999...|1493733914185|0.002248096946772...|    0| 15|\n",
      "|SA0297|            -1.36E-4|-1.00000000000000...|           -0.001976|1493733916452|0.002397970076557...|    0| 16|\n",
      "|SA0297|              3.3E-4|2.999999999999995E-5|-0.00256999999999...|1493733918705|0.002547843206342037|    0| 17|\n",
      "|SA0297|            -3.12E-4|            -2.96E-4|-0.00170799999999...|1493733920957|0.002697716336126...|    0| 18|\n",
      "|SA0297|-2.08000000000000...|-2.07999999999999...|-0.00104000000000...|1493733923208|0.002847589465911...|    0| 19|\n",
      "+------+--------------------+--------------------+--------------------+-------------+--------------------+-----+---+\n"
     ]
    },
    {
     "name": "stderr",
     "output_type": "stream",
     "text": [
      "                                                                                \r"
     ]
    }
   ],
   "source": [
    "accelerometer_data.show(20)"
   ],
   "metadata": {
    "collapsed": false,
    "ExecuteTime": {
     "end_time": "2025-02-05T11:25:36.926652162Z",
     "start_time": "2025-02-05T11:25:11.187311860Z"
    }
   },
   "id": "d78f287beb2875b0",
   "execution_count": 48
  },
  {
   "cell_type": "code",
   "outputs": [],
   "source": [
    "dataset = accelerometer_data"
   ],
   "metadata": {
    "collapsed": false,
    "ExecuteTime": {
     "end_time": "2025-02-05T12:39:52.492053178Z",
     "start_time": "2025-02-05T12:39:52.417604225Z"
    }
   },
   "id": "21a17307614f080d",
   "execution_count": 94
  },
  {
   "cell_type": "code",
   "outputs": [
    {
     "name": "stderr",
     "output_type": "stream",
     "text": [
      "                                                                                \r"
     ]
    },
    {
     "data": {
      "text/plain": "19292"
     },
     "execution_count": 95,
     "metadata": {},
     "output_type": "execute_result"
    }
   ],
   "source": [
    "dataset.count()"
   ],
   "metadata": {
    "collapsed": false,
    "ExecuteTime": {
     "end_time": "2025-02-05T12:40:13.019556881Z",
     "start_time": "2025-02-05T12:39:54.492693086Z"
    }
   },
   "id": "c0866b993704fa24",
   "execution_count": 95
  },
  {
   "cell_type": "code",
   "outputs": [],
   "source": [
    "window_spec = Window.partitionBy(\"pid\").orderBy(\"time\").rowsBetween(-12, 12)"
   ],
   "metadata": {
    "collapsed": false,
    "ExecuteTime": {
     "end_time": "2025-02-05T12:40:13.166854432Z",
     "start_time": "2025-02-05T12:40:13.018759288Z"
    }
   },
   "id": "18aefd569ae2619c",
   "execution_count": 96
  },
  {
   "cell_type": "code",
   "outputs": [],
   "source": [
    "assembler = VectorAssembler(\n",
    "    inputCols=[\"x\", \"y\", \"z\"],\n",
    "    outputCol=\"coordinates\"\n",
    ")"
   ],
   "metadata": {
    "collapsed": false,
    "ExecuteTime": {
     "end_time": "2025-02-05T12:40:13.170665754Z",
     "start_time": "2025-02-05T12:40:13.035309726Z"
    }
   },
   "id": "86b999d451782a2f",
   "execution_count": 97
  },
  {
   "cell_type": "code",
   "outputs": [],
   "source": [
    "dataset = assembler.transform(dataset)"
   ],
   "metadata": {
    "collapsed": false,
    "ExecuteTime": {
     "end_time": "2025-02-05T12:40:13.202973099Z",
     "start_time": "2025-02-05T12:40:13.046983169Z"
    }
   },
   "id": "725f483b9982d725",
   "execution_count": 98
  },
  {
   "cell_type": "code",
   "outputs": [],
   "source": [
    "dataset = dataset.withColumn(\n",
    "    \"feature\", \n",
    "    collect_list(\"coordinates\").over(window_spec)\n",
    ")"
   ],
   "metadata": {
    "collapsed": false,
    "ExecuteTime": {
     "end_time": "2025-02-05T12:40:13.283867223Z",
     "start_time": "2025-02-05T12:40:13.132980832Z"
    }
   },
   "id": "b216fa16cfd2a7e3",
   "execution_count": 99
  },
  {
   "cell_type": "code",
   "outputs": [],
   "source": [
    "dataset = dataset.filter(F.size(dataset.feature) == 25)"
   ],
   "metadata": {
    "collapsed": false,
    "ExecuteTime": {
     "end_time": "2025-02-05T12:40:13.305274650Z",
     "start_time": "2025-02-05T12:40:13.173357928Z"
    }
   },
   "id": "fad184690b04db66",
   "execution_count": 100
  },
  {
   "cell_type": "code",
   "outputs": [],
   "source": [
    "from pyspark.ml.linalg import VectorUDT\n",
    "\n",
    "\n",
    "def merge_vectors(vectors):\n",
    "    if vectors is None:\n",
    "        return None\n",
    "    merged_array = []\n",
    "    for v in vectors:\n",
    "        merged_array.extend(v.toArray())\n",
    "    return Vectors.dense(merged_array)\n",
    "\n",
    "merged_vectors = F.udf(merge_vectors, VectorUDT())"
   ],
   "metadata": {
    "collapsed": false,
    "ExecuteTime": {
     "end_time": "2025-02-05T12:40:13.314364385Z",
     "start_time": "2025-02-05T12:40:13.176623544Z"
    }
   },
   "id": "7dd1c4d0592345e5",
   "execution_count": 101
  },
  {
   "cell_type": "code",
   "outputs": [],
   "source": [
    "dataset = dataset.withColumn(\"flat_feature\", merged_vectors(\"feature\"))"
   ],
   "metadata": {
    "collapsed": false,
    "ExecuteTime": {
     "end_time": "2025-02-05T12:40:22.393982213Z",
     "start_time": "2025-02-05T12:40:22.346307333Z"
    }
   },
   "id": "e4e761cddfe4e702",
   "execution_count": 102
  },
  {
   "cell_type": "code",
   "outputs": [
    {
     "name": "stderr",
     "output_type": "stream",
     "text": [
      "[Stage 608:>                                                        (0 + 1) / 1]\r"
     ]
    },
    {
     "name": "stdout",
     "output_type": "stream",
     "text": [
      "+------+--------------------+--------------------+--------------------+-------------+--------------------+-----+---+--------------------+--------------------+--------------------+\n",
      "|   pid|                   x|                   y|                   z|         time|         TAC_Reading|label| id|         coordinates|             feature|        flat_feature|\n",
      "+------+--------------------+--------------------+--------------------+-------------+--------------------+-----+---+--------------------+--------------------+--------------------+\n",
      "|SA0297|-1.89999999999999...|5.799999999999999E-4|-0.00328199999999...|1493733907408|0.001798477557417...|    0| 12|[-1.8999999999999...|[(3,[],[]), [-0.0...|[0.0,0.0,0.0,-0.0...|\n",
      "|SA0297|2.919999999999999E-4|-2.65999999999999...|-0.00311199999999...|1493733909668|0.001948350687202...|    0| 13|[2.91999999999999...|[[-0.020399999999...|[-0.0203999999999...|\n",
      "|SA0297|             4.74E-4|-1.19999999999999...|-0.00288400000000...|1493733911924| 0.00209822381698756|    0| 14|[4.74E-4,-1.19999...|[[8.4800000000000...|[8.48000000000000...|\n",
      "|SA0297|-1.45999999999999...|2.120000000000000...|-0.00248199999999...|1493733914185|0.002248096946772...|    0| 15|[-1.4599999999999...|[[0.0024459999999...|[0.00244599999999...|\n",
      "|SA0297|            -1.36E-4|-1.00000000000000...|           -0.001976|1493733916452|0.002397970076557...|    0| 16|[-1.36E-4,-1.0000...|[[-5.320000000000...|[-5.3200000000000...|\n",
      "+------+--------------------+--------------------+--------------------+-------------+--------------------+-----+---+--------------------+--------------------+--------------------+\n"
     ]
    },
    {
     "name": "stderr",
     "output_type": "stream",
     "text": [
      "                                                                                \r"
     ]
    }
   ],
   "source": [
    "dataset.show(5)"
   ],
   "metadata": {
    "collapsed": false,
    "ExecuteTime": {
     "end_time": "2025-02-05T12:40:53.096883657Z",
     "start_time": "2025-02-05T12:40:23.791334538Z"
    }
   },
   "id": "9ed2b37c5e6e901f",
   "execution_count": 103
  },
  {
   "cell_type": "code",
   "outputs": [],
   "source": [
    "train, test_val = dataset.randomSplit([0.7, 0.3], seed=42)"
   ],
   "metadata": {
    "collapsed": false,
    "ExecuteTime": {
     "end_time": "2025-02-05T12:41:15.583305373Z",
     "start_time": "2025-02-05T12:41:15.506374167Z"
    }
   },
   "id": "92483f674f43d9e3",
   "execution_count": 104
  },
  {
   "cell_type": "code",
   "outputs": [],
   "source": [
    "test, val = test_val.randomSplit([0.5, 0.5], seed=42)"
   ],
   "metadata": {
    "collapsed": false,
    "ExecuteTime": {
     "end_time": "2025-02-05T12:41:16.183377469Z",
     "start_time": "2025-02-05T12:41:16.131213655Z"
    }
   },
   "id": "8f6bf6b2c26f1b2",
   "execution_count": 105
  },
  {
   "cell_type": "code",
   "outputs": [
    {
     "name": "stderr",
     "output_type": "stream",
     "text": [
      "                                                                                \r"
     ]
    }
   ],
   "source": [
    "from pyspark.ml.classification import RandomForestClassifier\n",
    "rf = RandomForestClassifier(labelCol=\"label\", featuresCol=\"flat_feature\", numTrees=50)\n",
    "model = rf.fit(train)"
   ],
   "metadata": {
    "collapsed": false,
    "ExecuteTime": {
     "end_time": "2025-02-05T12:44:15.806789678Z",
     "start_time": "2025-02-05T12:41:19.280264637Z"
    }
   },
   "id": "f26912b4219b052a",
   "execution_count": 106
  },
  {
   "cell_type": "code",
   "outputs": [],
   "source": [
    "pred = model.transform(test)"
   ],
   "metadata": {
    "collapsed": false,
    "ExecuteTime": {
     "end_time": "2025-02-05T12:44:18.686464376Z",
     "start_time": "2025-02-05T12:44:18.620410796Z"
    }
   },
   "id": "539cf25d54026b97",
   "execution_count": 107
  },
  {
   "cell_type": "code",
   "outputs": [
    {
     "name": "stderr",
     "output_type": "stream",
     "text": [
      "[Stage 936:>                                                        (0 + 1) / 1]\r"
     ]
    },
    {
     "name": "stdout",
     "output_type": "stream",
     "text": [
      "Random Forest accuracy: 0.8455704929334712\n"
     ]
    },
    {
     "name": "stderr",
     "output_type": "stream",
     "text": [
      "                                                                                \r"
     ]
    }
   ],
   "source": [
    "from pyspark.ml.evaluation import MulticlassClassificationEvaluator\n",
    "\n",
    "evaluator = MulticlassClassificationEvaluator(labelCol=\"label\", predictionCol=\"prediction\", metricName=\"accuracy\")\n",
    "accuracy = evaluator.evaluate(pred)\n",
    "print(f\"Random Forest accuracy: {accuracy}\")\n"
   ],
   "metadata": {
    "collapsed": false,
    "ExecuteTime": {
     "end_time": "2025-02-05T12:45:29.445239638Z",
     "start_time": "2025-02-05T12:44:57.622791054Z"
    }
   },
   "id": "650dcbaa88301959",
   "execution_count": 108
  },
  {
   "cell_type": "code",
   "outputs": [],
   "source": [],
   "metadata": {
    "collapsed": false
   },
   "id": "948e778571715e1b"
  }
 ],
 "metadata": {
  "kernelspec": {
   "display_name": "Python 3",
   "language": "python",
   "name": "python3"
  },
  "language_info": {
   "codemirror_mode": {
    "name": "ipython",
    "version": 2
   },
   "file_extension": ".py",
   "mimetype": "text/x-python",
   "name": "python",
   "nbconvert_exporter": "python",
   "pygments_lexer": "ipython2",
   "version": "2.7.6"
  }
 },
 "nbformat": 4,
 "nbformat_minor": 5
}
