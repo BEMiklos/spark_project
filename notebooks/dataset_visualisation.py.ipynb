{
 "cells": [
  {
   "cell_type": "markdown",
   "source": [
    "# Bar Crawl: Detecting Heavy Drinking - Data Visualisation\n",
    "#### Accelerometer and transdermal alcohol content data from a college bar crawl. Used to predict heavy drinking episodes via mobile data\n",
    "[Source: http://ceur-ws.org/Vol-2429/paper6.pdf](http://ceur-ws.org/Vol-2429/paper6.pdf)"
   ],
   "metadata": {
    "collapsed": false
   },
   "id": "42647571dc339252"
  },
  {
   "cell_type": "markdown",
   "source": [
    "#### Features: Three-axis time series accelerometer data\n",
    "#### Target: Time series transdermal alcohol content (TAC) data (real-time measure of intoxication)\n",
    "The study decomposed each time series into 10 second windows and performed binary classification to predict if windows corresponded to an intoxicated participant (TAC >= 0.08) or sober participant (TAC < 0.08). The study tested several models and achieved a test accuracy of 77.5% with a random forest."
   ],
   "metadata": {
    "collapsed": false
   },
   "id": "7ba3cb55e7c98fe"
  },
  {
   "cell_type": "code",
   "outputs": [],
   "source": [
    "import numpy as np\n",
    "\n",
    "# Since my computer has limited resources (24GB RAM, 8 cores), I must aggregate the data to accelerate the notebook\n",
    "AGGREGATE = 25"
   ],
   "metadata": {
    "collapsed": false,
    "ExecuteTime": {
     "end_time": "2025-02-20T02:30:10.026613929Z",
     "start_time": "2025-02-20T02:30:08.706393432Z"
    }
   },
   "id": "2b9fb5290c8b2ee5",
   "execution_count": 1
  },
  {
   "cell_type": "code",
   "outputs": [],
   "source": [
    "from pyspark import StorageLevel\n",
    "\n",
    "from pyspark.sql import SparkSession\n",
    "from pyspark.sql.functions import input_file_name, regexp_replace, collect_list, row_number, floor, avg, lit, coalesce, first, last, array\n",
    "from pyspark.sql.functions import min, max\n",
    "from pyspark.sql.functions import when, col\n",
    "from pyspark.sql.window import Window\n",
    "from pyspark.sql import functions as F\n",
    "\n",
    "from pyspark.ml.feature import VectorAssembler\n",
    "from pyspark.ml.linalg import Vectors"
   ],
   "metadata": {
    "collapsed": true,
    "ExecuteTime": {
     "end_time": "2025-02-20T02:30:10.300390846Z",
     "start_time": "2025-02-20T02:30:10.002487111Z"
    }
   },
   "id": "initial_id",
   "execution_count": 2
  },
  {
   "cell_type": "markdown",
   "source": [
    "#### Load the dataset\n",
    "The dataset must be downloaded from the source and uploaded to the HDFS. The dataset has the following structure:\n",
    ".\n",
    "├── all_accelerometer_data_pids_13.csv\n",
    "├── clean_tac\n",
    " ├── BK7610_clean_TAC.csv\n",
    " ├── BU4707_clean_TAC.csv\n",
    " ├── ...\n",
    " └── 13 files\n",
    "├── phone_types.csv\n",
    "├── pids.txt\n",
    "├── raw_tac\n",
    " ├── BK7610 CAM Results.xlsx\n",
    " ├── BU4707 CAM results.xlsx\n",
    " ├── ...\n",
    " └── 13 files\n",
    "└── README.txt\n",
    "\n",
    "2 directories, 30 files\n"
   ],
   "metadata": {
    "collapsed": false
   },
   "id": "f7044f5411caa5f4"
  },
  {
   "cell_type": "code",
   "outputs": [
    {
     "name": "stderr",
     "output_type": "stream",
     "text": [
      "25/02/20 03:30:12 WARN Utils: Your hostname, pop-os resolves to a loopback address: 127.0.0.1; using 192.168.1.62 instead (on interface wlp61s0)\n",
      "25/02/20 03:30:12 WARN Utils: Set SPARK_LOCAL_IP if you need to bind to another address\n",
      "Setting default log level to \"WARN\".\n",
      "To adjust logging level use sc.setLogLevel(newLevel). For SparkR, use setLogLevel(newLevel).\n",
      "25/02/20 03:30:12 WARN NativeCodeLoader: Unable to load native-hadoop library for your platform... using builtin-java classes where applicable\n"
     ]
    }
   ],
   "source": [
    "# Initialise SparkSession\n",
    "spark = SparkSession.builder.appName(\"heavy_drinking_project\").config(\"spark.hadop.fs.defaultFS\",\"hdfs://localhost:9000\").getOrCreate()"
   ],
   "metadata": {
    "collapsed": false,
    "ExecuteTime": {
     "end_time": "2025-02-20T02:30:14.291498319Z",
     "start_time": "2025-02-20T02:30:10.254005229Z"
    }
   },
   "id": "7e5d7888db5684b",
   "execution_count": 3
  },
  {
   "cell_type": "code",
   "outputs": [
    {
     "name": "stderr",
     "output_type": "stream",
     "text": [
      "                                                                                \r"
     ]
    },
    {
     "name": "stdout",
     "output_type": "stream",
     "text": [
      "+-------------+------+-------+-------+-------+\n",
      "|         time|   pid|      x|      y|      z|\n",
      "+-------------+------+-------+-------+-------+\n",
      "|            0|JB3156|    0.0|    0.0|    0.0|\n",
      "|            0|CC6740|    0.0|    0.0|    0.0|\n",
      "|1493733882409|SA0297| 0.0758| 0.0273|-0.0102|\n",
      "|1493733882455|SA0297|-0.0359| 0.0794| 0.0037|\n",
      "|1493733882500|SA0297|-0.2427|-0.0861|-0.0163|\n",
      "+-------------+------+-------+-------+-------+\n"
     ]
    }
   ],
   "source": [
    "# Load data from HDFS\n",
    "accelerometer_data = spark.read.csv(\"hdfs://localhost:9000/heavy_drinking_project/all_accelerometer_data_pids_13.csv\", header=True, inferSchema=True)\n",
    "# Display first 5 rows of data\n",
    "accelerometer_data.show(5)"
   ],
   "metadata": {
    "collapsed": false,
    "ExecuteTime": {
     "end_time": "2025-02-20T02:30:29.075613584Z",
     "start_time": "2025-02-20T02:30:14.200344607Z"
    }
   },
   "id": "c5fc108836b1a2cc",
   "execution_count": 4
  },
  {
   "cell_type": "code",
   "outputs": [],
   "source": [
    "# Aggregation - Groupby by AGGREGATION rows, avg on values, partition by pid\n",
    "window_spec = Window.partitionBy(\"pid\").orderBy(\"time\")\n",
    "accelerometer_data = accelerometer_data.withColumn(\"row_num\", row_number().over(window_spec))\n",
    "accelerometer_data = accelerometer_data.withColumn(\"group_num\", floor((col(\"row_num\") - 1) / AGGREGATE))\n",
    "accelerometer_data = accelerometer_data.groupBy(\"pid\", \"group_num\").agg(\n",
    "    F.avg(\"x\").alias(\"x\"),\n",
    "    F.avg(\"y\").alias(\"y\"),\n",
    "    F.avg(\"z\").alias(\"z\"),\n",
    "    F.min(\"time\").alias(\"time\")\n",
    ")\n",
    "# Delete group_num column\n",
    "accelerometer_data = accelerometer_data.drop(\"group_num\")"
   ],
   "metadata": {
    "collapsed": false,
    "ExecuteTime": {
     "end_time": "2025-02-20T02:30:29.321745124Z",
     "start_time": "2025-02-20T02:30:29.073676360Z"
    }
   },
   "id": "e2330d70e0f21389",
   "execution_count": 5
  },
  {
   "cell_type": "code",
   "outputs": [],
   "source": [
    "# I have also selected just one of the pid's for acceleration purposes - but since I am using partition, they never get mixed\n",
    "#accelerometer_data = accelerometer_data.filter((accelerometer_data[\"pid\"] == \"SA0297\") | (accelerometer_data[\"pid\"] == \"BK7610\"))\n",
    "accelerometer_data = accelerometer_data.filter((accelerometer_data[\"pid\"] == \"SA0297\"))"
   ],
   "metadata": {
    "collapsed": false,
    "ExecuteTime": {
     "end_time": "2025-02-20T02:30:29.365279496Z",
     "start_time": "2025-02-20T02:30:29.267758059Z"
    }
   },
   "id": "ca0c9f43f26257b8",
   "execution_count": 6
  },
  {
   "cell_type": "code",
   "outputs": [
    {
     "name": "stderr",
     "output_type": "stream",
     "text": [
      "25/02/20 03:30:29 WARN SparkStringUtils: Truncated the string representation of a plan since it was too large. This behavior can be adjusted by setting 'spark.sql.debug.maxToStringFields'.\n",
      "[Stage 5:>                                                          (0 + 1) / 1]\r"
     ]
    },
    {
     "name": "stdout",
     "output_type": "stream",
     "text": [
      "+-------+------+--------------------+--------------------+--------------------+--------------------+\n",
      "|summary|   pid|                   x|                   y|                   z|                time|\n",
      "+-------+------+--------------------+--------------------+--------------------+--------------------+\n",
      "|  count| 38517|               38517|               38517|               38517|               38517|\n",
      "|   mean|  NULL|-0.00282075852221...|-4.88142586390434...|-0.00418381628891...|1.493791323299911E12|\n",
      "| stddev|  NULL| 0.03052992844167898|0.038800349256618634| 0.03335709785051021| 2.348637525551762E7|\n",
      "|    min|SA0297|           -0.508572| -0.6577640000000001| -1.7064960000000002|       1493733882409|\n",
      "|    max|SA0297|  0.3392319999999999|  0.6237039999999999|  1.1664119999999998|       1493824735776|\n",
      "+-------+------+--------------------+--------------------+--------------------+--------------------+\n"
     ]
    },
    {
     "name": "stderr",
     "output_type": "stream",
     "text": [
      "                                                                                \r"
     ]
    }
   ],
   "source": [
    "accelerometer_data.describe().show()"
   ],
   "metadata": {
    "collapsed": false,
    "ExecuteTime": {
     "end_time": "2025-02-20T02:30:40.606421154Z",
     "start_time": "2025-02-20T02:30:29.282722913Z"
    }
   },
   "id": "c0f96c3a9d2a05c2",
   "execution_count": 7
  },
  {
   "cell_type": "code",
   "outputs": [
    {
     "name": "stderr",
     "output_type": "stream",
     "text": [
      "[Stage 11:>                                                         (0 + 1) / 1]\r"
     ]
    },
    {
     "name": "stdout",
     "output_type": "stream",
     "text": [
      "Numbers of rows with 0: 0\n"
     ]
    },
    {
     "name": "stderr",
     "output_type": "stream",
     "text": [
      "                                                                                \r"
     ]
    }
   ],
   "source": [
    "# Number of rows where time in 0\n",
    "print(f\"Numbers of rows with 0: {accelerometer_data.filter(accelerometer_data['time'] == 0).count()}\")\n",
    "# Drop rows where time is 0\n",
    "accelerometer_data = accelerometer_data.filter(accelerometer_data[\"time\"] != 0)"
   ],
   "metadata": {
    "collapsed": false,
    "ExecuteTime": {
     "end_time": "2025-02-20T02:30:50.439665155Z",
     "start_time": "2025-02-20T02:30:40.567505563Z"
    }
   },
   "id": "809354c864910d2",
   "execution_count": 8
  },
  {
   "cell_type": "code",
   "outputs": [
    {
     "name": "stderr",
     "output_type": "stream",
     "text": [
      "                                                                                \r"
     ]
    },
    {
     "data": {
      "text/plain": "1"
     },
     "execution_count": 9,
     "metadata": {},
     "output_type": "execute_result"
    }
   ],
   "source": [
    "# Check number of distinct pids is 13\n",
    "accelerometer_data.select(\"pid\").distinct().count()"
   ],
   "metadata": {
    "collapsed": false,
    "ExecuteTime": {
     "end_time": "2025-02-20T02:30:58.181875322Z",
     "start_time": "2025-02-20T02:30:50.432080565Z"
    }
   },
   "id": "be2be3a3dddb4e00",
   "execution_count": 9
  },
  {
   "cell_type": "markdown",
   "source": [
    "What can we observe first:\n",
    "- Here the time is measured in milliseconds\n",
    "- They have different starting and ending times, might occure shorter, or longer breaks"
   ],
   "metadata": {
    "collapsed": false
   },
   "id": "915bf3b2c030a5a5"
  },
  {
   "cell_type": "code",
   "outputs": [
    {
     "name": "stderr",
     "output_type": "stream",
     "text": [
      "                                                                                \r"
     ]
    }
   ],
   "source": [
    "# Min-max values of time / pid\n",
    "acc_mean_max = accelerometer_data.groupBy(\"pid\").agg(\n",
    "    min(\"time\").alias(\"min_value\"),\n",
    "    max(\"time\").alias(\"max_value\")\n",
    ")\n",
    "acc_mean_max_value = acc_mean_max.collect()"
   ],
   "metadata": {
    "collapsed": false,
    "ExecuteTime": {
     "end_time": "2025-02-20T02:31:05.337404528Z",
     "start_time": "2025-02-20T02:30:58.172943161Z"
    }
   },
   "id": "f27531fa60aa1bb2",
   "execution_count": 10
  },
  {
   "cell_type": "code",
   "outputs": [
    {
     "name": "stdout",
     "output_type": "stream",
     "text": [
      "pid:  SA0297 min_value:  1493733882409 max_value:  1493824735776\n"
     ]
    }
   ],
   "source": [
    "for row in acc_mean_max_value:\n",
    "    print(\"pid: \", row.pid, \"min_value: \", row.min_value, \"max_value: \", row.max_value)"
   ],
   "metadata": {
    "collapsed": false,
    "ExecuteTime": {
     "end_time": "2025-02-20T02:31:05.369443644Z",
     "start_time": "2025-02-20T02:31:05.332591226Z"
    }
   },
   "id": "bac59c7d468579e3",
   "execution_count": 11
  },
  {
   "cell_type": "code",
   "outputs": [
    {
     "name": "stderr",
     "output_type": "stream",
     "text": [
      "[Stage 26:>                                                         (0 + 1) / 1]\r"
     ]
    },
    {
     "name": "stdout",
     "output_type": "stream",
     "text": [
      "+-------+------+--------------------+--------------------+--------------------+--------------------+\n",
      "|summary|   pid|                   x|                   y|                   z|                time|\n",
      "+-------+------+--------------------+--------------------+--------------------+--------------------+\n",
      "|  count| 38517|               38517|               38517|               38517|               38517|\n",
      "|   mean|  NULL|-0.00282075852221...|-4.88142586390434...|-0.00418381628891...|1.493791323299911E12|\n",
      "| stddev|  NULL| 0.03052992844167898|0.038800349256618634| 0.03335709785051021| 2.348637525551762E7|\n",
      "|    min|SA0297|           -0.508572| -0.6577640000000001| -1.7064960000000002|       1493733882409|\n",
      "|    max|SA0297|  0.3392319999999999|  0.6237039999999999|  1.1664119999999998|       1493824735776|\n",
      "+-------+------+--------------------+--------------------+--------------------+--------------------+\n"
     ]
    },
    {
     "name": "stderr",
     "output_type": "stream",
     "text": [
      "                                                                                \r"
     ]
    }
   ],
   "source": [
    "# Display statistics of data\n",
    "accelerometer_data.describe().show()"
   ],
   "metadata": {
    "collapsed": false,
    "ExecuteTime": {
     "end_time": "2025-02-20T02:31:15.434952894Z",
     "start_time": "2025-02-20T02:31:05.341201700Z"
    }
   },
   "id": "f23177799095d133",
   "execution_count": 12
  },
  {
   "cell_type": "code",
   "outputs": [
    {
     "name": "stderr",
     "output_type": "stream",
     "text": [
      "25/02/20 03:31:26 WARN RowBasedKeyValueBatch: Calling spill() on RowBasedKeyValueBatch. Will not spill but return 0.\n",
      "                                                                                \r"
     ]
    },
    {
     "data": {
      "text/plain": "38517"
     },
     "execution_count": 13,
     "metadata": {},
     "output_type": "execute_result"
    }
   ],
   "source": [
    "# Persist table in disc\n",
    "accelerometer_data.persist(StorageLevel.DISK_ONLY)\n",
    "accelerometer_data.count()"
   ],
   "metadata": {
    "collapsed": false,
    "ExecuteTime": {
     "end_time": "2025-02-20T02:31:29.219447285Z",
     "start_time": "2025-02-20T02:31:15.386931637Z"
    }
   },
   "id": "565b755ac458893f",
   "execution_count": 13
  },
  {
   "cell_type": "markdown",
   "source": [
    "Let's examine the TAC data (the labels) as well"
   ],
   "metadata": {
    "collapsed": false
   },
   "id": "f0ad4b360bc69178"
  },
  {
   "cell_type": "code",
   "outputs": [
    {
     "name": "stdout",
     "output_type": "stream",
     "text": [
      "+----------+--------------------+\n",
      "| timestamp|         TAC_Reading|\n",
      "+----------+--------------------+\n",
      "|1493720054|-0.00138489147187626|\n",
      "|1493721878|  8.6409171419157E-4|\n",
      "|1493722199| 0.00191262269224459|\n",
      "|1493722520| 0.00133321064411826|\n",
      "|1493722842| -2.5582927499585E-4|\n",
      "+----------+--------------------+\n"
     ]
    }
   ],
   "source": [
    "# Load data from HDFS\n",
    "tac_data = spark.read.csv(\"hdfs://localhost:9000/heavy_drinking_project/clean_tac\", header=True, inferSchema=True)\n",
    "# Display first 5 rows of data\n",
    "tac_data.show(5)"
   ],
   "metadata": {
    "collapsed": false,
    "ExecuteTime": {
     "end_time": "2025-02-20T02:31:29.694990466Z",
     "start_time": "2025-02-20T02:31:29.215122839Z"
    }
   },
   "id": "e12996b27f366cf0",
   "execution_count": 14
  },
  {
   "cell_type": "code",
   "outputs": [],
   "source": [
    "# Convert timestamp to milliseconds\n",
    "tac_data = tac_data.withColumn(\"timestamp\", (col(\"timestamp\").cast(\"long\") * 1000))"
   ],
   "metadata": {
    "collapsed": false,
    "ExecuteTime": {
     "end_time": "2025-02-20T02:31:29.831363621Z",
     "start_time": "2025-02-20T02:31:29.688392616Z"
    }
   },
   "id": "66963333684e5f40",
   "execution_count": 15
  },
  {
   "cell_type": "code",
   "outputs": [],
   "source": [
    "tac_data=tac_data.withColumn(\"pid\", input_file_name())\n",
    "# Clean up the source_file column: remove prefix and suffix\n",
    "tac_data = tac_data.withColumn(\n",
    "    \"pid\",\n",
    "    regexp_replace(tac_data[\"pid\"], r\"hdfs://localhost:9000/heavy_drinking_project/clean_tac/|\\_clean_TAC.csv\", \"\")\n",
    ")\n",
    "# tac_data.show(5)"
   ],
   "metadata": {
    "collapsed": false,
    "ExecuteTime": {
     "end_time": "2025-02-20T02:31:29.890311487Z",
     "start_time": "2025-02-20T02:31:29.720419671Z"
    }
   },
   "id": "b136598f63276203",
   "execution_count": 16
  },
  {
   "cell_type": "code",
   "outputs": [
    {
     "name": "stdout",
     "output_type": "stream",
     "text": [
      "+-------------+--------------------+------+-----+\n",
      "|    timestamp|         TAC_Reading|   pid|label|\n",
      "+-------------+--------------------+------+-----+\n",
      "|1493720054000|-0.00138489147187626|MJ8002|    0|\n",
      "|1493721878000|  8.6409171419157E-4|MJ8002|    0|\n",
      "|1493722199000| 0.00191262269224459|MJ8002|    0|\n",
      "|1493722520000| 0.00133321064411826|MJ8002|    0|\n",
      "|1493722842000| -2.5582927499585E-4|MJ8002|    0|\n",
      "+-------------+--------------------+------+-----+\n"
     ]
    }
   ],
   "source": [
    "# Rename column timestamp to time\n",
    "tac_data = tac_data.withColumn(\n",
    "    \"label\",\n",
    "    when(col(\"TAC_Reading\") >= 0.08, 1).otherwise(0)\n",
    ")\n",
    "tac_data.show(5)"
   ],
   "metadata": {
    "collapsed": false,
    "ExecuteTime": {
     "end_time": "2025-02-20T02:31:30.272564040Z",
     "start_time": "2025-02-20T02:31:29.744187400Z"
    }
   },
   "id": "a66e15c2fb08460e",
   "execution_count": 17
  },
  {
   "cell_type": "code",
   "outputs": [
    {
     "name": "stdout",
     "output_type": "stream",
     "text": [
      "+-------+--------------------+-------------------+------+-------------------+\n",
      "|summary|           timestamp|        TAC_Reading|   pid|              label|\n",
      "+-------+--------------------+-------------------+------+-------------------+\n",
      "|  count|                 715|                715|   715|                715|\n",
      "|   mean|1.493758289310489...|0.04612379015251771|  NULL|0.24335664335664337|\n",
      "| stddev|2.7079924105804104E7|0.05691672319271539|  NULL|0.42940898745802425|\n",
      "|    min|       1493716723000|-0.0283076756275948|BK7610|                  0|\n",
      "|    max|       1493811240000|  0.244715325903414|SF3079|                  1|\n",
      "+-------+--------------------+-------------------+------+-------------------+\n"
     ]
    }
   ],
   "source": [
    "tac_data.describe().show()"
   ],
   "metadata": {
    "collapsed": false,
    "ExecuteTime": {
     "end_time": "2025-02-20T02:31:30.574120156Z",
     "start_time": "2025-02-20T02:31:29.924085774Z"
    }
   },
   "id": "f796a499c3506f7d",
   "execution_count": 18
  },
  {
   "cell_type": "code",
   "outputs": [],
   "source": [
    "# Filter out the pid's that are in the accelerometer data\n",
    "tac_data = tac_data.filter(tac_data[\"pid\"] == \"SA0297\")"
   ],
   "metadata": {
    "collapsed": false,
    "ExecuteTime": {
     "end_time": "2025-02-20T02:31:30.653928688Z",
     "start_time": "2025-02-20T02:31:30.513082430Z"
    }
   },
   "id": "68714077b819d66f",
   "execution_count": 19
  },
  {
   "cell_type": "code",
   "outputs": [],
   "source": [
    "# Rename column timestamp to time\n",
    "tac_data = tac_data.withColumnRenamed(\"timestamp\", \"time\")\n",
    "tac_data.persist(StorageLevel.DISK_ONLY)\n",
    "tac_data.count()\n",
    "# Join accelerometer and tac data by time and pid\n",
    "joined_data = accelerometer_data.join(tac_data, [\"time\", \"pid\"], \"inner\")"
   ],
   "metadata": {
    "collapsed": false,
    "ExecuteTime": {
     "end_time": "2025-02-20T02:31:31.283155775Z",
     "start_time": "2025-02-20T02:31:30.525516085Z"
    }
   },
   "id": "75a98f6a2d1bddc9",
   "execution_count": 20
  },
  {
   "cell_type": "code",
   "outputs": [
    {
     "name": "stdout",
     "output_type": "stream",
     "text": [
      "+----+---+---+---+---+-----------+-----+\n",
      "|time|pid|  x|  y|  z|TAC_Reading|label|\n",
      "+----+---+---+---+---+-----------+-----+\n",
      "+----+---+---+---+---+-----------+-----+\n"
     ]
    }
   ],
   "source": [
    "# Lets see if there are matching timestamps - probably not\n",
    "joined_data.show(5)"
   ],
   "metadata": {
    "collapsed": false,
    "ExecuteTime": {
     "end_time": "2025-02-20T02:31:32.577095892Z",
     "start_time": "2025-02-20T02:31:31.087501820Z"
    }
   },
   "id": "f9d0b4a04553c55c",
   "execution_count": 21
  },
  {
   "cell_type": "code",
   "outputs": [],
   "source": [
    "# Select time and pid from tac_data, where time is not in accelerometer_data\n",
    "missing_data = tac_data.join(accelerometer_data, [\"time\", \"pid\"], \"left_anti\")"
   ],
   "metadata": {
    "collapsed": false,
    "ExecuteTime": {
     "end_time": "2025-02-20T02:31:32.681843893Z",
     "start_time": "2025-02-20T02:31:32.565659906Z"
    }
   },
   "id": "5a768cbd9be13e9b",
   "execution_count": 22
  },
  {
   "cell_type": "code",
   "outputs": [
    {
     "name": "stderr",
     "output_type": "stream",
     "text": [
      "                                                                                \r"
     ]
    },
    {
     "name": "stdout",
     "output_type": "stream",
     "text": [
      "+-------+--------------------+------+--------------------+------------------+\n",
      "|summary|                time|   pid|         TAC_Reading|             label|\n",
      "+-------+--------------------+------+--------------------+------------------+\n",
      "|  count|                  58|    58|                  58|                58|\n",
      "|   mean|1.493755502568965...|  NULL| 0.04313428279934111|0.1896551724137931|\n",
      "| stddev|2.8614117773671508E7|  NULL|0.054026349282856004|0.3954520642861982|\n",
      "|    min|       1493716723000|SA0297| -0.0212745069534411|                 0|\n",
      "|    max|       1493806094000|SA0297|    0.18264365205783|                 1|\n",
      "+-------+--------------------+------+--------------------+------------------+\n"
     ]
    }
   ],
   "source": [
    "missing_data.describe().show()"
   ],
   "metadata": {
    "collapsed": false,
    "ExecuteTime": {
     "end_time": "2025-02-20T02:31:34.432240120Z",
     "start_time": "2025-02-20T02:31:32.589790936Z"
    }
   },
   "id": "d530943e8d40a3db",
   "execution_count": 23
  },
  {
   "cell_type": "code",
   "outputs": [
    {
     "name": "stderr",
     "output_type": "stream",
     "text": [
      "                                                                                \r"
     ]
    },
    {
     "name": "stdout",
     "output_type": "stream",
     "text": [
      "pid:  SA0297 min_value:  1493716723000 max_value:  1493806094000\n"
     ]
    }
   ],
   "source": [
    "# Min-max values of time / pid - we have to match the timing boundaries\n",
    "missing_mean_max = missing_data.groupBy(\"pid\").agg(\n",
    "    min(\"time\").alias(\"min_value\"),\n",
    "    max(\"time\").alias(\"max_value\")\n",
    ")\n",
    "missing_mean_max_value = missing_mean_max.collect()\n",
    "# Show min-max values of time / pid\n",
    "for row in missing_mean_max_value:\n",
    "    print(\"pid: \", row.pid, \"min_value: \", row.min_value, \"max_value: \", row.max_value)"
   ],
   "metadata": {
    "collapsed": false,
    "ExecuteTime": {
     "end_time": "2025-02-20T02:31:35.853161389Z",
     "start_time": "2025-02-20T02:31:34.430225779Z"
    }
   },
   "id": "7c3e203929e68ce3",
   "execution_count": 24
  },
  {
   "cell_type": "code",
   "outputs": [],
   "source": [
    "# For every pid, delete records from missing_data where missing_row.pid==acc_row.pid, missing_df[time] is less than acc_row.min_value or greater than acc_row.max_value\n",
    "filtered_missing_data = spark.createDataFrame([], missing_data.schema)\n",
    "for row in acc_mean_max_value:\n",
    "    filtered = missing_data.filter((missing_data[\"pid\"] == row.pid) & (missing_data[\"time\"] >= row.min_value) & (missing_data[\"time\"] <= row.max_value))\n",
    "    filtered_missing_data = filtered_missing_data.union(filtered)"
   ],
   "metadata": {
    "collapsed": false,
    "ExecuteTime": {
     "end_time": "2025-02-20T02:31:36.342905798Z",
     "start_time": "2025-02-20T02:31:35.846498249Z"
    }
   },
   "id": "6431b5d77fbb2edd",
   "execution_count": 25
  },
  {
   "cell_type": "code",
   "outputs": [
    {
     "name": "stderr",
     "output_type": "stream",
     "text": [
      "                                                                                \r"
     ]
    }
   ],
   "source": [
    "# Min-max values of time / pid\n",
    "filtered_min_max = filtered_missing_data.groupBy(\"pid\").agg(\n",
    "    min(\"time\").alias(\"min_value\"),\n",
    "    max(\"time\").alias(\"max_value\")\n",
    ")\n",
    "filtered_min_max_value = filtered_min_max.collect()"
   ],
   "metadata": {
    "collapsed": false,
    "ExecuteTime": {
     "end_time": "2025-02-20T02:31:40.686350360Z",
     "start_time": "2025-02-20T02:31:36.344879276Z"
    }
   },
   "id": "f6eea82de583600d",
   "execution_count": 26
  },
  {
   "cell_type": "code",
   "outputs": [
    {
     "name": "stdout",
     "output_type": "stream",
     "text": [
      "pid:  SA0297 min_value:  1493734448000 max_value:  1493806094000\n"
     ]
    }
   ],
   "source": [
    "for row in filtered_min_max_value:\n",
    "    print(\"pid: \", row.pid, \"min_value: \", row.min_value, \"max_value: \", row.max_value)"
   ],
   "metadata": {
    "collapsed": false,
    "ExecuteTime": {
     "end_time": "2025-02-20T02:31:40.723619879Z",
     "start_time": "2025-02-20T02:31:40.637495988Z"
    }
   },
   "id": "56367c5f51dcf44c",
   "execution_count": 27
  },
  {
   "cell_type": "code",
   "outputs": [],
   "source": [
    "missing_data = filtered_missing_data"
   ],
   "metadata": {
    "collapsed": false,
    "ExecuteTime": {
     "end_time": "2025-02-20T02:31:40.756659457Z",
     "start_time": "2025-02-20T02:31:40.646328875Z"
    }
   },
   "id": "32dc6f06be7962b9",
   "execution_count": 28
  },
  {
   "cell_type": "code",
   "outputs": [],
   "source": [
    "# Add columns x, y, z to missing_data with null values\n",
    "missing_data = missing_data \\\n",
    "    .withColumn(\"id\", lit(0).cast(\"int\")) \\\n",
    "    .withColumn(\"x\", lit(None).cast(\"double\")) \\\n",
    "    .withColumn(\"y\", lit(None).cast(\"double\")) \\\n",
    "    .withColumn(\"z\", lit(None).cast(\"double\"))\n",
    "# missing_data.show(5)"
   ],
   "metadata": {
    "collapsed": false,
    "ExecuteTime": {
     "end_time": "2025-02-20T02:31:41.131333447Z",
     "start_time": "2025-02-20T02:31:40.665021975Z"
    }
   },
   "id": "3325a50db4c31e4b",
   "execution_count": 29
  },
  {
   "cell_type": "code",
   "outputs": [],
   "source": [
    "accelerometer_data = accelerometer_data \\\n",
    "    .withColumn(\"TAC_Reading\", lit(None).cast(\"double\")) \\\n",
    "    .withColumn(\"label\", lit(None).cast(\"int\"))"
   ],
   "metadata": {
    "collapsed": false,
    "ExecuteTime": {
     "end_time": "2025-02-20T02:31:41.182410532Z",
     "start_time": "2025-02-20T02:31:40.736735022Z"
    }
   },
   "id": "df5582556d28e0f7",
   "execution_count": 30
  },
  {
   "cell_type": "code",
   "outputs": [],
   "source": [
    "# Add missing_data to accelerometer_data, the order of columns might differ\n",
    "missing_data = missing_data.select(accelerometer_data.columns)\n",
    "accelerometer_data = accelerometer_data.union(missing_data)"
   ],
   "metadata": {
    "collapsed": false,
    "ExecuteTime": {
     "end_time": "2025-02-20T02:31:41.201631983Z",
     "start_time": "2025-02-20T02:31:40.760053028Z"
    }
   },
   "id": "fcda973c415460",
   "execution_count": 31
  },
  {
   "cell_type": "code",
   "outputs": [],
   "source": [
    "# Update row number\n",
    "window_spec = Window.partitionBy(\"pid\").orderBy(\"time\")\n",
    "accelerometer_data = accelerometer_data.withColumn(\"id\", row_number().over(window_spec))"
   ],
   "metadata": {
    "collapsed": false,
    "ExecuteTime": {
     "end_time": "2025-02-20T02:31:41.264608406Z",
     "start_time": "2025-02-20T02:31:40.814071407Z"
    }
   },
   "id": "639dabd087349fb8",
   "execution_count": 32
  },
  {
   "cell_type": "code",
   "outputs": [
    {
     "name": "stderr",
     "output_type": "stream",
     "text": [
      "[Stage 77:============================================>           (12 + 3) / 15]\r"
     ]
    },
    {
     "name": "stdout",
     "output_type": "stream",
     "text": [
      "+-------+------+----+----+----+--------------------+-------------------+------------------+\n",
      "|summary|   pid|   x|   y|   z|                time|        TAC_Reading|             label|\n",
      "+-------+------+----+----+----+--------------------+-------------------+------------------+\n",
      "|  count|    40|   0|   0|   0|                  40|                 40|                40|\n",
      "|   mean|  NULL|NULL|NULL|NULL|   1.493770315025E12|0.06184838344957734|             0.275|\n",
      "| stddev|  NULL|NULL|NULL|NULL|2.1507314503191642E7|0.05533492589476571|0.4522025867763026|\n",
      "|    min|SA0297|NULL|NULL|NULL|       1493734448000|-0.0212745069534411|                 0|\n",
      "|    max|SA0297|NULL|NULL|NULL|       1493806094000|   0.18264365205783|                 1|\n",
      "+-------+------+----+----+----+--------------------+-------------------+------------------+\n"
     ]
    },
    {
     "name": "stderr",
     "output_type": "stream",
     "text": [
      "                                                                                \r"
     ]
    }
   ],
   "source": [
    "# As we can see, there are a lot of null values. We will aproach them linearly\n",
    "missing_data.describe().show()"
   ],
   "metadata": {
    "collapsed": false,
    "ExecuteTime": {
     "end_time": "2025-02-20T02:31:43.422506292Z",
     "start_time": "2025-02-20T02:31:40.855416724Z"
    }
   },
   "id": "da93106c33120b05",
   "execution_count": 33
  },
  {
   "cell_type": "code",
   "outputs": [
    {
     "name": "stderr",
     "output_type": "stream",
     "text": [
      "[Stage 86:>                                                         (0 + 1) / 1]\r"
     ]
    },
    {
     "name": "stdout",
     "output_type": "stream",
     "text": [
      "+-------+------+--------------------+--------------------+--------------------+--------------------+-------------------+------------------+------------------+\n",
      "|summary|   pid|                   x|                   y|                   z|                time|        TAC_Reading|             label|                id|\n",
      "+-------+------+--------------------+--------------------+--------------------+--------------------+-------------------+------------------+------------------+\n",
      "|  count| 38557|               38517|               38517|               38517|               38557|                 40|                40|             38557|\n",
      "|   mean|  NULL|-0.00282075852221...|-4.88142586390434...|-0.00418381628891...|1.493791301505399...|0.06184838344957734|             0.275|           19279.0|\n",
      "| stddev|  NULL| 0.03052992844167898|0.038800349256618634| 0.03335709785051021|2.3493889572965868E7|0.05533492589476571|0.4522025867763026|11130.591501203638|\n",
      "|    min|SA0297|           -0.508572| -0.6577640000000001| -1.7064960000000002|       1493733882409|-0.0212745069534411|                 0|                 1|\n",
      "|    max|SA0297|  0.3392319999999999|  0.6237039999999999|  1.1664119999999998|       1493824735776|   0.18264365205783|                 1|             38557|\n",
      "+-------+------+--------------------+--------------------+--------------------+--------------------+-------------------+------------------+------------------+\n"
     ]
    },
    {
     "name": "stderr",
     "output_type": "stream",
     "text": [
      "                                                                                \r"
     ]
    }
   ],
   "source": [
    "accelerometer_data.describe().show()"
   ],
   "metadata": {
    "collapsed": false,
    "ExecuteTime": {
     "end_time": "2025-02-20T02:31:48.463561044Z",
     "start_time": "2025-02-20T02:31:43.422850640Z"
    }
   },
   "id": "34f67e9379883650",
   "execution_count": 34
  },
  {
   "cell_type": "code",
   "outputs": [],
   "source": [
    "# Sort data by pid and time\n",
    "accelerometer_data = accelerometer_data.orderBy(\"pid\", \"time\")"
   ],
   "metadata": {
    "collapsed": false,
    "ExecuteTime": {
     "end_time": "2025-02-20T02:31:48.672574491Z",
     "start_time": "2025-02-20T02:31:48.464405039Z"
    }
   },
   "id": "9768365f2cc3eca3",
   "execution_count": 35
  },
  {
   "cell_type": "code",
   "outputs": [],
   "source": [
    "# Define a window for previous and next records\n",
    "window_spec = Window.partitionBy(\"pid\").orderBy(\"time\").rowsBetween(-1, 1)"
   ],
   "metadata": {
    "collapsed": false,
    "ExecuteTime": {
     "end_time": "2025-02-20T02:31:48.737268882Z",
     "start_time": "2025-02-20T02:31:48.486730317Z"
    }
   },
   "id": "1d15d95415cc4bd2",
   "execution_count": 36
  },
  {
   "cell_type": "code",
   "outputs": [],
   "source": [
    "# If null, then avg of col\n",
    "accelerometer_data = accelerometer_data.withColumn(\n",
    "    \"x\",\n",
    "    coalesce(accelerometer_data[\"x\"], avg(\"x\").over(window_spec))\n",
    ").withColumn(\n",
    "    \"y\",\n",
    "    coalesce(accelerometer_data[\"y\"], avg(\"y\").over(window_spec))\n",
    ").withColumn(\n",
    "    \"z\",\n",
    "    coalesce(accelerometer_data[\"z\"], avg(\"z\").over(window_spec))\n",
    ")"
   ],
   "metadata": {
    "collapsed": false,
    "ExecuteTime": {
     "end_time": "2025-02-20T02:31:48.790521493Z",
     "start_time": "2025-02-20T02:31:48.504289806Z"
    }
   },
   "id": "710a9fa90afd96c4",
   "execution_count": 37
  },
  {
   "cell_type": "code",
   "outputs": [
    {
     "name": "stderr",
     "output_type": "stream",
     "text": [
      "[Stage 109:>                                                        (0 + 1) / 1]\r"
     ]
    },
    {
     "name": "stdout",
     "output_type": "stream",
     "text": [
      "+-------+------+--------------------+--------------------+--------------------+--------------------+-------------------+------------------+------------------+\n",
      "|summary|   pid|                   x|                   y|                   z|                time|        TAC_Reading|             label|                id|\n",
      "+-------+------+--------------------+--------------------+--------------------+--------------------+-------------------+------------------+------------------+\n",
      "|  count| 38557|               38548|               38548|               38548|               38557|                 40|                40|             38557|\n",
      "|   mean|  NULL|-0.00281995309743...|-4.93151343779193...|-0.00417357030196...|1.493791301505399...|0.06184838344957734|             0.275|           19279.0|\n",
      "| stddev|  NULL|0.030540461879194295| 0.03882463927784377| 0.03338407605037276|2.3493889572965868E7|0.05533492589476571|0.4522025867763026|11130.591501203638|\n",
      "|    min|SA0297|           -0.508572| -0.6577640000000001| -1.7064960000000002|       1493733882409|-0.0212745069534411|                 0|                 1|\n",
      "|    max|SA0297|  0.3392319999999999|  0.6237039999999999|  1.1664119999999998|       1493824735776|   0.18264365205783|                 1|             38557|\n",
      "+-------+------+--------------------+--------------------+--------------------+--------------------+-------------------+------------------+------------------+\n"
     ]
    },
    {
     "name": "stderr",
     "output_type": "stream",
     "text": [
      "                                                                                \r"
     ]
    }
   ],
   "source": [
    "accelerometer_data.describe().show()"
   ],
   "metadata": {
    "collapsed": false,
    "ExecuteTime": {
     "end_time": "2025-02-20T02:31:55.198255281Z",
     "start_time": "2025-02-20T02:31:48.573590734Z"
    }
   },
   "id": "a2a9a7b21d52c37d",
   "execution_count": 38
  },
  {
   "cell_type": "code",
   "outputs": [],
   "source": [
    "# Drop rows where x, y, z is null\n",
    "accelerometer_data = accelerometer_data.filter(accelerometer_data[\"x\"].isNotNull() & accelerometer_data[\"y\"].isNotNull() & accelerometer_data[\"z\"].isNotNull())"
   ],
   "metadata": {
    "collapsed": false,
    "ExecuteTime": {
     "end_time": "2025-02-20T02:31:55.350524063Z",
     "start_time": "2025-02-20T02:31:55.195207865Z"
    }
   },
   "id": "a91b0c8463729d7f",
   "execution_count": 39
  },
  {
   "cell_type": "code",
   "outputs": [
    {
     "name": "stderr",
     "output_type": "stream",
     "text": [
      "                                                                                \r"
     ]
    }
   ],
   "source": [
    "# Add new row, with mintime-1 and maxtime+1\n",
    "for row in acc_mean_max_value:\n",
    "    new_row = spark.createDataFrame([(row.pid, 0.0, 0.0, 0.0, row.min_value - 1, 0.0, 0, 0), (row.pid, 0.0, 0.0, 0.0, row.max_value + 1, 0.0,0, accelerometer_data.filter(accelerometer_data[\"pid\"] == row.pid).count())], accelerometer_data.schema)\n",
    "    accelerometer_data = accelerometer_data.union(new_row)"
   ],
   "metadata": {
    "collapsed": false,
    "ExecuteTime": {
     "end_time": "2025-02-20T02:32:00.075752532Z",
     "start_time": "2025-02-20T02:31:55.218570219Z"
    }
   },
   "id": "696ce6148837448c",
   "execution_count": 40
  },
  {
   "cell_type": "code",
   "outputs": [],
   "source": [
    "window_spec_prev = Window.partitionBy(\"pid\").orderBy(\"time\").rowsBetween(Window.unboundedPreceding, Window.currentRow)\n",
    "window_spec_next = Window.partitionBy(\"pid\").orderBy(\"time\").rowsBetween(Window.currentRow, Window.unboundedFollowing)"
   ],
   "metadata": {
    "collapsed": false,
    "ExecuteTime": {
     "end_time": "2025-02-20T02:32:00.191114480Z",
     "start_time": "2025-02-20T02:32:00.073970093Z"
    }
   },
   "id": "7c2d7bb72307a9e2",
   "execution_count": 41
  },
  {
   "cell_type": "code",
   "outputs": [],
   "source": [
    "accelerometer_data = accelerometer_data.withColumn(\"prev_tac\", last(\"TAC_Reading\", ignorenulls=True).over(window_spec_prev))\n",
    "accelerometer_data = accelerometer_data.withColumn(\"prev_index\", last(when(col(\"TAC_Reading\").isNotNull(), col(\"id\")), ignorenulls=True).over(window_spec_prev))\n",
    "accelerometer_data = accelerometer_data.withColumn(\"next_tac\", first(\"TAC_Reading\", ignorenulls=True).over(window_spec_next))\n",
    "accelerometer_data = accelerometer_data.withColumn(\"next_index\", first(when(col(\"TAC_Reading\").isNotNull(), col(\"id\")), ignorenulls=True).over(window_spec_next))"
   ],
   "metadata": {
    "collapsed": false,
    "ExecuteTime": {
     "end_time": "2025-02-20T02:32:00.311930389Z",
     "start_time": "2025-02-20T02:32:00.095420978Z"
    }
   },
   "id": "a3ce4fab2a007d95",
   "execution_count": 42
  },
  {
   "cell_type": "code",
   "outputs": [],
   "source": [
    "accelerometer_data = accelerometer_data.withColumn(\"count_since_prev\", col(\"id\") - col(\"prev_index\"))\n",
    "accelerometer_data = accelerometer_data.withColumn(\"count_until_next\", col(\"next_index\") - col(\"id\"))\n",
    "\n",
    "accelerometer_data = accelerometer_data.withColumn(\"pos_ratio\", col(\"count_since_prev\") / (col(\"count_since_prev\") + col(\"count_until_next\")))"
   ],
   "metadata": {
    "collapsed": false,
    "ExecuteTime": {
     "end_time": "2025-02-20T02:32:00.417694664Z",
     "start_time": "2025-02-20T02:32:00.184004899Z"
    }
   },
   "id": "47b5a6031a547713",
   "execution_count": 43
  },
  {
   "cell_type": "code",
   "outputs": [],
   "source": [
    "accelerometer_data = accelerometer_data.withColumn(\"TAC_Reading\", when(col(\"TAC_Reading\").isNotNull(), col(\"TAC_Reading\")).otherwise(col(\"prev_tac\") + (col(\"next_tac\") - col(\"prev_tac\")) * col(\"pos_ratio\")))"
   ],
   "metadata": {
    "collapsed": false,
    "ExecuteTime": {
     "end_time": "2025-02-20T02:32:00.511563076Z",
     "start_time": "2025-02-20T02:32:00.245922Z"
    }
   },
   "id": "51c7919ae0c782c8",
   "execution_count": 44
  },
  {
   "cell_type": "code",
   "outputs": [],
   "source": [
    "# Drop columns for calculating interpolated_tac\n",
    "accelerometer_data = accelerometer_data.drop(\"prev_tac\", \"prev_index\", \"next_tac\", \"next_index\", \"count_since_prev\", \"count_until_next\", \"pos_ratio\")"
   ],
   "metadata": {
    "collapsed": false,
    "ExecuteTime": {
     "end_time": "2025-02-20T02:32:00.569868628Z",
     "start_time": "2025-02-20T02:32:00.286537118Z"
    }
   },
   "id": "eaf96a225a8532fd",
   "execution_count": 45
  },
  {
   "cell_type": "code",
   "outputs": [
    {
     "name": "stderr",
     "output_type": "stream",
     "text": [
      "[Stage 160:>                                                        (0 + 1) / 1]\r"
     ]
    },
    {
     "name": "stdout",
     "output_type": "stream",
     "text": [
      "+------+--------------------+-------------------+--------------------+-------------+--------------------+-----+---+\n",
      "|   pid|                   x|                  y|                   z|         time|         TAC_Reading|label| id|\n",
      "+------+--------------------+-------------------+--------------------+-------------+--------------------+-----+---+\n",
      "|SA0297|-0.03500799999999999|           0.094412|-0.02873599999999...|1493734446025|0.032522124627376636| NULL|433|\n",
      "|SA0297|           -0.071504|           0.079016|-0.00847600000000...|1493734447157| 0.03259723346023432| NULL|434|\n",
      "|SA0297|           -0.052636|           0.091216|-0.03497000000000...|1493734448000|   0.032672342293092|    0|435|\n",
      "|SA0297|           -0.033768|0.10341600000000001|-0.06146400000000002|1493734448287| 0.03265971419519542| NULL|436|\n",
      "|SA0297|0.002504000000000...|0.13429199999999997|-0.02044800000000...|1493734449412| 0.03264708609729885| NULL|437|\n",
      "+------+--------------------+-------------------+--------------------+-------------+--------------------+-----+---+\n"
     ]
    },
    {
     "name": "stderr",
     "output_type": "stream",
     "text": [
      "                                                                                \r"
     ]
    }
   ],
   "source": [
    "accelerometer_data.filter(accelerometer_data[\"time\"] >= \"1493734446000\").show(5)"
   ],
   "metadata": {
    "collapsed": false,
    "ExecuteTime": {
     "end_time": "2025-02-20T02:32:57.380367483Z",
     "start_time": "2025-02-20T02:32:00.295615842Z"
    }
   },
   "id": "c63aa2f7c222f28a",
   "execution_count": 46
  },
  {
   "cell_type": "code",
   "outputs": [],
   "source": [
    "# Label data\n",
    "accelerometer_data = accelerometer_data.withColumn(\"label\", when(col(\"TAC_Reading\") >= 0.08, 1).otherwise(0))"
   ],
   "metadata": {
    "collapsed": false,
    "ExecuteTime": {
     "end_time": "2025-02-20T02:32:57.427746423Z",
     "start_time": "2025-02-20T02:32:57.349531320Z"
    }
   },
   "id": "d3552ffc254f49f8",
   "execution_count": 47
  },
  {
   "cell_type": "code",
   "outputs": [
    {
     "name": "stderr",
     "output_type": "stream",
     "text": [
      "                                                                                \r"
     ]
    },
    {
     "data": {
      "text/plain": "38550"
     },
     "execution_count": 48,
     "metadata": {},
     "output_type": "execute_result"
    }
   ],
   "source": [
    "# Persist table in disc, to load it faster\n",
    "accelerometer_data.persist(StorageLevel.DISK_ONLY)\n",
    "accelerometer_data.count()"
   ],
   "metadata": {
    "collapsed": false,
    "ExecuteTime": {
     "end_time": "2025-02-20T02:34:53.728300427Z",
     "start_time": "2025-02-20T02:32:57.349726057Z"
    }
   },
   "id": "4da33a0fe245cd30",
   "execution_count": 48
  },
  {
   "cell_type": "markdown",
   "source": [
    "#### Feature engineering\n",
    "As the paper sugests, the data is not seperable by the accelerometer data alone. We need to use feature engineering to get the best results."
   ],
   "metadata": {
    "collapsed": false
   },
   "id": "e4843dc34aee96a"
  },
  {
   "cell_type": "code",
   "outputs": [],
   "source": [
    "# Window for last 20 rows\n",
    "w_size = (int)(20000 / (AGGREGATE * 45)) + 1\n",
    "window = Window.partitionBy(\"pid\").orderBy(\"time\")\n",
    "window_20 = Window.partitionBy(\"pid\").orderBy(\"time\").rowsBetween(-w_size, 0)"
   ],
   "metadata": {
    "collapsed": false,
    "ExecuteTime": {
     "end_time": "2025-02-20T02:34:53.765445070Z",
     "start_time": "2025-02-20T02:34:53.655521583Z"
    }
   },
   "id": "4c45aafab094a2af",
   "execution_count": 49
  },
  {
   "cell_type": "markdown",
   "source": [
    "#### Calculate the velocity and distance from the accelerometer data\n",
    "Improved the modell weakly, not used in the final model"
   ],
   "metadata": {
    "collapsed": false
   },
   "id": "965d7c20a63bfe95"
  },
  {
   "cell_type": "code",
   "outputs": [],
   "source": [
    "# Add column dt\n",
    "accelerometer_data = accelerometer_data.withColumn(\"dt\", (F.col(\"time\") - F.lag(\"time\", 1).over(window)) / 1000)\n",
    "# Fill null values with 0 in dt\n",
    "accelerometer_data = accelerometer_data.fillna(0, subset=[\"dt\"])"
   ],
   "metadata": {
    "collapsed": false,
    "ExecuteTime": {
     "end_time": "2025-02-20T02:34:53.806138082Z",
     "start_time": "2025-02-20T02:34:53.655699850Z"
    }
   },
   "id": "616a82e3dd63cf82",
   "execution_count": 50
  },
  {
   "cell_type": "code",
   "outputs": [],
   "source": [
    "# Calculate vx, vy, vz from accelerations x,y,z\n",
    "accelerometer_data = accelerometer_data.withColumn(\n",
    "    \"vx\",\n",
    "    F.sum(F.col(\"x\") * F.col(\"dt\")).over(window_20)\n",
    ").withColumn(\n",
    "    \"vy\",\n",
    "    F.sum(F.col(\"y\") * F.col(\"dt\")).over(window_20)\n",
    ").withColumn(\n",
    "    \"vz\",\n",
    "    F.sum(F.col(\"z\") * F.col(\"dt\")).over(window_20)\n",
    ")"
   ],
   "metadata": {
    "collapsed": false,
    "ExecuteTime": {
     "end_time": "2025-02-20T02:34:54.025020200Z",
     "start_time": "2025-02-20T02:34:53.700753824Z"
    }
   },
   "id": "6bc9d32689daec81",
   "execution_count": 51
  },
  {
   "cell_type": "code",
   "outputs": [],
   "source": [
    "# Calculator velocity\n",
    "accelerometer_data = accelerometer_data.withColumn(\n",
    "    \"a\",\n",
    "    F.sqrt(F.col(\"x\") ** 2 + F.col(\"y\") ** 2 + F.col(\"z\") ** 2)\n",
    ").withColumn(\n",
    "    \"v\",\n",
    "    F.sum(F.col(\"a\") * F.col(\"dt\")).over(window_20)\n",
    ")"
   ],
   "metadata": {
    "collapsed": false,
    "ExecuteTime": {
     "end_time": "2025-02-20T02:34:54.106933820Z",
     "start_time": "2025-02-20T02:34:53.750385016Z"
    }
   },
   "id": "e4275624f2b4f4e9",
   "execution_count": 52
  },
  {
   "cell_type": "code",
   "outputs": [],
   "source": [
    "# Calculate dx, dy, dz from velocities vx, vy, vz\n",
    "accelerometer_data = accelerometer_data.withColumn(\n",
    "    \"dx\",\n",
    "    F.sum(F.col(\"vx\") * F.col(\"dt\")).over(window_20)\n",
    ").withColumn(\n",
    "    \"dy\",\n",
    "    F.sum(F.col(\"vy\") * F.col(\"dt\")).over(window_20)\n",
    ").withColumn(\n",
    "    \"dz\",\n",
    "    F.sum(F.col(\"vz\") * F.col(\"dt\")).over(window_20)\n",
    ")"
   ],
   "metadata": {
    "collapsed": false,
    "ExecuteTime": {
     "end_time": "2025-02-20T02:34:54.157579095Z",
     "start_time": "2025-02-20T02:34:53.812012515Z"
    }
   },
   "id": "160dfa491928ee6b",
   "execution_count": 53
  },
  {
   "cell_type": "markdown",
   "source": [
    "#### Approach with first and second derivative\n",
    "Did not improve the model significantly, not used in the final model"
   ],
   "metadata": {
    "collapsed": false
   },
   "id": "22f0e829ba57afca"
  },
  {
   "cell_type": "code",
   "outputs": [],
   "source": [
    "# Calculate distance between the prev row and the current row in distance column\n",
    "accelerometer_data = accelerometer_data.withColumn(\n",
    "    \"distance\",\n",
    "    F.sqrt(\n",
    "        (F.col(\"x\") - F.lag(\"x\", 1).over(window)) ** 2 +\n",
    "        (F.col(\"y\") - F.lag(\"y\", 1).over(window)) ** 2 +\n",
    "        (F.col(\"z\") - F.lag(\"z\", 1).over(window)) ** 2\n",
    "    )\n",
    ")"
   ],
   "metadata": {
    "collapsed": false,
    "ExecuteTime": {
     "end_time": "2025-02-20T02:34:54.296631749Z",
     "start_time": "2025-02-20T02:34:53.881130156Z"
    }
   },
   "id": "c09490c93e8eb103",
   "execution_count": 54
  },
  {
   "cell_type": "code",
   "outputs": [],
   "source": [
    "# Calculate velocity between the prev row and the current row in velocity column\n",
    "# Sum the prev 20 distance, divide it by the difference of the current time and the prev time and multiple by 1000\n",
    "accelerometer_data = accelerometer_data.withColumn(\n",
    "    \"velocity\",\n",
    "    F.sum(\"distance\").over(window_20) / ((F.col(\"time\") - F.lag(\"time\", 20).over(window)) / 10000)\n",
    ")\n",
    "    "
   ],
   "metadata": {
    "collapsed": false,
    "ExecuteTime": {
     "end_time": "2025-02-20T02:34:54.362105994Z",
     "start_time": "2025-02-20T02:34:53.932270735Z"
    }
   },
   "id": "a9e133ac0bbede5e",
   "execution_count": 55
  },
  {
   "cell_type": "code",
   "outputs": [],
   "source": [
    "# Calculate the velocity difference between the current row and the next row in velocity_diff column\n",
    "accelerometer_data = accelerometer_data.withColumn(\n",
    "    \"velocity_diff\",\n",
    "    F.col(\"velocity\") - F.lead(\"velocity\", 1).over(window)\n",
    ")"
   ],
   "metadata": {
    "collapsed": false,
    "ExecuteTime": {
     "end_time": "2025-02-20T02:34:54.370681616Z",
     "start_time": "2025-02-20T02:34:53.973537378Z"
    }
   },
   "id": "d5a9dfb3459e0c09",
   "execution_count": 56
  },
  {
   "cell_type": "code",
   "outputs": [],
   "source": [
    "# Calculate the acceleration between the current row and the next row in acceleration column\n",
    "# Sum the prev 20 velocity_diff, divide it by the difference of the current time and the prev time and multiple by 1000\n",
    "accelerometer_data = accelerometer_data.withColumn(\n",
    "    \"acceleration\",\n",
    "    F.sum(\"velocity_diff\").over(window_20) / ((F.col(\"time\") - F.lag(\"time\", 20).over(window)) / 10000)\n",
    ")"
   ],
   "metadata": {
    "collapsed": false,
    "ExecuteTime": {
     "end_time": "2025-02-20T02:34:54.409821035Z",
     "start_time": "2025-02-20T02:34:53.994650061Z"
    }
   },
   "id": "3685c58b6d9da567",
   "execution_count": 57
  },
  {
   "cell_type": "markdown",
   "source": [
    "#### Trying with paper approach\n",
    "The paper advised several features to be used based on the lest 1 and 10 seconds of the data - here I used 5 and 30 seconds"
   ],
   "metadata": {
    "collapsed": false
   },
   "id": "1611c463466007ab"
  },
  {
   "cell_type": "code",
   "outputs": [],
   "source": [
    "sec_1 = (int)(5000 / (AGGREGATE * 45)) + 1\n",
    "sec_10 = (int)(30000 / (AGGREGATE * 45)) + 1\n",
    "window_1sec = Window.partitionBy(\"pid\").orderBy(\"time\").rowsBetween(-sec_1, 0)\n",
    "window_10sec = Window.partitionBy(\"pid\").orderBy(\"time\").rowsBetween(-sec_10, 0)"
   ],
   "metadata": {
    "collapsed": false,
    "ExecuteTime": {
     "end_time": "2025-02-20T02:34:54.436947255Z",
     "start_time": "2025-02-20T02:34:54.035501966Z"
    }
   },
   "id": "5f23bb2485cd7663",
   "execution_count": 58
  },
  {
   "cell_type": "code",
   "outputs": [],
   "source": [
    "feature_columns = [\"x\", \"y\", \"z\"]"
   ],
   "metadata": {
    "collapsed": false,
    "ExecuteTime": {
     "end_time": "2025-02-20T02:34:54.448081295Z",
     "start_time": "2025-02-20T02:34:54.051530816Z"
    }
   },
   "id": "8f9fb07b14009859",
   "execution_count": 59
  },
  {
   "cell_type": "code",
   "outputs": [
    {
     "name": "stdout",
     "output_type": "stream",
     "text": [
      "Finished x\n",
      "Finished y\n",
      "Finished z\n",
      "Finished x\n",
      "Finished y\n",
      "Finished z\n"
     ]
    }
   ],
   "source": [
    "for window in [window_1sec, window_10sec]:\n",
    "    for dim in [\"x\", \"y\", \"z\"]:\n",
    "        feature_columns.append(f\"mean_{dim}_1sec\")\n",
    "        feature_columns.append(f\"std_{dim}_1sec\")\n",
    "        feature_columns.append(f\"median_{dim}_1sec\")\n",
    "        feature_columns.append(f\"variance_{dim}_1sec\")\n",
    "        feature_columns.append(f\"min_{dim}_1sec\")\n",
    "        feature_columns.append(f\"max_{dim}_1sec\")\n",
    "        feature_columns.append(f\"mean_{dim}_10sec\")\n",
    "        feature_columns.append(f\"std_{dim}_10sec\")\n",
    "        feature_columns.append(f\"median_{dim}_10sec\")\n",
    "        feature_columns.append(f\"variance_{dim}_10sec\")\n",
    "        feature_columns.append(f\"min_{dim}_10sec\")\n",
    "        feature_columns.append(f\"max_{dim}_10sec\")\n",
    "        \n",
    "        accelerometer_data = accelerometer_data.withColumn(\n",
    "            f\"mean_{dim}_1sec\",\n",
    "            F.avg(dim).over(window)\n",
    "        ).withColumn(\n",
    "            f\"std_{dim}_1sec\",\n",
    "            F.stddev(dim).over(window)\n",
    "        ).withColumn(\n",
    "            f\"median_{dim}_1sec\",\n",
    "            F.expr(f\"percentile_approx({dim}, 0.5)\").over(window)\n",
    "        ).withColumn(\n",
    "            f\"variance_{dim}_1sec\",\n",
    "            F.variance(dim).over(window)\n",
    "        ).withColumn(\n",
    "            f\"min_{dim}_1sec\",\n",
    "            F.min(dim).over(window)\n",
    "        ).withColumn(\n",
    "            f\"max_{dim}_1sec\",\n",
    "            F.max(dim).over(window)\n",
    "        ).withColumn(\n",
    "            f\"mean_{dim}_10sec\",\n",
    "            F.avg(dim).over(window)\n",
    "        ).withColumn(\n",
    "            f\"std_{dim}_10sec\",\n",
    "            F.stddev(dim).over(window)\n",
    "        ).withColumn(\n",
    "            f\"median_{dim}_10sec\",\n",
    "            F.expr(f\"percentile_approx({dim}, 0.5)\").over(window)\n",
    "        ).withColumn(\n",
    "            f\"variance_{dim}_10sec\",\n",
    "            F.variance(dim).over(window)\n",
    "        ).withColumn(\n",
    "            f\"min_{dim}_10sec\",\n",
    "            F.min(dim).over(window)\n",
    "        ).withColumn(\n",
    "            f\"max_{dim}_10sec\",\n",
    "            F.max(dim).over(window)\n",
    "        )\n",
    "        print(f\"Finished {dim}\")   "
   ],
   "metadata": {
    "collapsed": false,
    "ExecuteTime": {
     "end_time": "2025-02-20T02:34:58.198235782Z",
     "start_time": "2025-02-20T02:34:54.092544540Z"
    }
   },
   "id": "e5cd1989d5c1acb2",
   "execution_count": 60
  },
  {
   "cell_type": "code",
   "outputs": [
    {
     "name": "stderr",
     "output_type": "stream",
     "text": [
      "[Stage 204:====================================================>(199 + 1) / 200]\r"
     ]
    },
    {
     "name": "stdout",
     "output_type": "stream",
     "text": [
      "+-------+------+--------------------+--------------------+--------------------+--------------------+--------------------+-------------------+-----------------+------------------+--------------------+--------------------+--------------------+--------------------+------------------+------------------+------------------+-------------------+--------------------+--------------------+--------------------+--------------------+--------------------+--------------------+--------------------+--------------------+--------------------+--------------------+--------------------+--------------------+--------------------+--------------------+--------------------+--------------------+--------------------+--------------------+--------------------+--------------------+--------------------+-------------------+--------------------+--------------------+--------------------+--------------------+--------------------+-------------------+--------------------+--------------------+--------------------+--------------------+-------------------+--------------------+--------------------+--------------------+--------------------+--------------------+-------------------+--------------------+\n",
      "|summary|   pid|                   x|                   y|                   z|                time|         TAC_Reading|              label|               id|                dt|                  vx|                  vy|                  vz|                   a|                 v|                dx|                dy|                 dz|            distance|            velocity|       velocity_diff|        acceleration|         mean_x_1sec|          std_x_1sec|       median_x_1sec|     variance_x_1sec|          min_x_1sec|          max_x_1sec|        mean_x_10sec|         std_x_10sec|      median_x_10sec|    variance_x_10sec|         min_x_10sec|         max_x_10sec|         mean_y_1sec|          std_y_1sec|       median_y_1sec|     variance_y_1sec|          min_y_1sec|         max_y_1sec|        mean_y_10sec|         std_y_10sec|      median_y_10sec|    variance_y_10sec|         min_y_10sec|        max_y_10sec|         mean_z_1sec|          std_z_1sec|       median_z_1sec|     variance_z_1sec|         min_z_1sec|          max_z_1sec|        mean_z_10sec|         std_z_10sec|      median_z_10sec|    variance_z_10sec|        min_z_10sec|         max_z_10sec|\n",
      "+-------+------+--------------------+--------------------+--------------------+--------------------+--------------------+-------------------+-----------------+------------------+--------------------+--------------------+--------------------+--------------------+------------------+------------------+------------------+-------------------+--------------------+--------------------+--------------------+--------------------+--------------------+--------------------+--------------------+--------------------+--------------------+--------------------+--------------------+--------------------+--------------------+--------------------+--------------------+--------------------+--------------------+--------------------+--------------------+--------------------+--------------------+-------------------+--------------------+--------------------+--------------------+--------------------+--------------------+-------------------+--------------------+--------------------+--------------------+--------------------+-------------------+--------------------+--------------------+--------------------+--------------------+--------------------+-------------------+--------------------+\n",
      "|  count| 38550|               38550|               38550|               38550|               38550|               38550|              38550|            38550|             38550|               38550|               38550|               38550|               38550|             38550|             38550|             38550|              38550|               38549|               38530|               38529|               38530|               38550|               38549|               38550|               38549|               38550|               38550|               38550|               38549|               38550|               38549|               38550|               38550|               38550|               38549|               38550|               38549|               38550|              38550|               38550|               38549|               38550|               38549|               38550|              38550|               38550|               38549|               38550|               38549|              38550|               38550|               38550|               38549|               38550|               38549|              38550|               38550|\n",
      "|   mean|  NULL|-0.00281980679636...|-4.93125758754873...|-0.00417335377431...|1.493791306947985...|0.027478185334923664|0.14391699092088198|19281.78485084306|2.3567670298312726|-0.49355874864601396|-0.12005860368788664|-0.08486042883175064|0.023074104946239654| 1.547663947041167|-2993.758599016433|-241.0190498620682| -530.0863270145587|0.019945372903688946| 0.16152972758266784|-8.49365454341469...|-0.00107876903700...|-0.00283205920200...|0.010421241761716816|-0.00319019865110...| 5.11187154421609E-4|-0.02643803143968905|0.021072666095979305|-0.00283205920200...|0.010421241761716816|-0.00319019865110...| 5.11187154421609E-4|-0.02643803143968905|0.021072666095979305|-4.99617531779053...|0.011941522617175657|-0.00145954594033...| 6.75827596228204E-4|-0.02567098728923567|0.02943644653696231|-4.99617531779053...|0.011941522617175657|-0.00145954594033...| 6.75827596228204E-4|-0.02567098728923567|0.02943644653696231|-0.00416969546426...| 0.01096055648620243|-0.00361993219195...|6.773157518494947E-4|  -0.03255035870298|0.017451232944228408|-0.00416969546426...| 0.01096055648620243|-0.00361993219195...|6.773157518494947E-4|  -0.03255035870298|0.017451232944228408|\n",
      "| stddev|  NULL|0.030539676372839462|  0.0388236322769096| 0.03338322355727784| 2.349323322663007E7|0.050846511309748266| 0.3510100948754576|11130.73364086992| 71.20445139315242|  26.397063488143825|   8.026925125913307|   6.136926688923259| 0.05520479843513069| 28.73006434216355| 158675.3469233189|35506.536795720094| 30857.289440443416| 0.04748135416394347|  0.2997092532847313|0.024268103365996708| 0.07388605198911624|0.020951563182893065|0.020064778052465378|0.021200038930946685|0.001736264006621...| 0.05880102479658746|0.043769426674635396|0.020951563182893065|0.020064778052465378|0.021200038930946685|0.001736264006621...| 0.05880102479658746|0.043769426674635396|0.029238738628717117|0.023092021709542415|0.030289966310455618|0.002533905004612262| 0.05851339177687584| 0.0641395745926899|0.029238738628717117|0.023092021709542415|0.030289966310455618|0.002533905004612262| 0.05851339177687584| 0.0641395745926899| 0.02146951056189824|0.023605008104212122|0.020724194721456715|0.005552234638596134|0.07155067814037287|0.058261912204194334| 0.02146951056189824|0.023605008104212122|0.020724194721456715|0.005552234638596134|0.07155067814037287|0.058261912204194334|\n",
      "|    min|SA0297|           -0.508572| -0.6577640000000001| -1.7064960000000002|       1493733882408| -0.0212745069534411|                  0|                0|               0.0| -1189.1679660720004| -213.33224918800005|      -194.541182332|                 0.0|               0.0|-7198772.935789753|-984536.9353232088|-1275231.6112274062|                 0.0|2.820305379324722...| -1.2010283185084076| -0.8195027453968696| -0.2469608571428572| 8.02740016687554E-5|-0.24422799999999992|6.443915343915345E-9|           -0.508572|           -0.149292| -0.2469608571428572| 8.02740016687554E-5|-0.24422799999999992|6.443915343915345E-9|           -0.508572|           -0.149292| -0.5127137142857143|5.787196230614634...| -0.5125919999999999|3.349164021164023...| -0.6577640000000001|          -0.323124| -0.5127137142857143|5.787196230614634...| -0.5125919999999999|3.349164021164023...| -0.6577640000000001|          -0.323124|-0.14546214285714282|1.285052857496863...|           -0.143396|1.651360846560853...|-1.7064960000000002|-0.04723200000000001|-0.14546214285714282|1.285052857496863...|           -0.143396|1.651360846560853...|-1.7064960000000002|-0.04723200000000001|\n",
      "|    max|SA0297|  0.3392319999999999|  0.6237039999999999|  1.1664119999999998|       1493824735777|    0.18264365205783|                  1|            38557|            7362.0|  155.11404461199993|  234.52714350800005|  188.18819377999998|  1.7411874295939542|1242.2720051300084| 715236.3525974393|1195393.8005129455|  421231.7685065844|  1.7364373738571746|  2.2181798479722175|  0.7038415822627947|  0.8537247031021784| 0.09095942857142858|  0.2178909228140098|             0.08148| 0.04747645424474077|0.002044000000000...|  0.3392319999999999| 0.09095942857142858|  0.2178909228140098|             0.08148| 0.04747645424474077|0.002044000000000...|  0.3392319999999999| 0.18180114285714286|  0.2808945412831041| 0.16950000000000004| 0.07890174332264548| 0.10046000000000001| 0.6237039999999999| 0.18180114285714286|  0.2808945412831041| 0.16950000000000004| 0.07890174332264548| 0.10046000000000001| 0.6237039999999999|  0.3108390000000001|  0.4365051898719937| 0.32087599999999994| 0.19053678078518527|0.21398400000000006|  1.1664119999999998|  0.3108390000000001|  0.4365051898719937| 0.32087599999999994| 0.19053678078518527|0.21398400000000006|  1.1664119999999998|\n",
      "+-------+------+--------------------+--------------------+--------------------+--------------------+--------------------+-------------------+-----------------+------------------+--------------------+--------------------+--------------------+--------------------+------------------+------------------+------------------+-------------------+--------------------+--------------------+--------------------+--------------------+--------------------+--------------------+--------------------+--------------------+--------------------+--------------------+--------------------+--------------------+--------------------+--------------------+--------------------+--------------------+--------------------+--------------------+--------------------+--------------------+--------------------+-------------------+--------------------+--------------------+--------------------+--------------------+--------------------+-------------------+--------------------+--------------------+--------------------+--------------------+-------------------+--------------------+--------------------+--------------------+--------------------+--------------------+-------------------+--------------------+\n"
     ]
    },
    {
     "name": "stderr",
     "output_type": "stream",
     "text": [
      "                                                                                \r"
     ]
    }
   ],
   "source": [
    "accelerometer_data.describe().show()"
   ],
   "metadata": {
    "collapsed": false,
    "ExecuteTime": {
     "end_time": "2025-02-20T02:35:40.204223837Z",
     "start_time": "2025-02-20T02:34:58.195084900Z"
    }
   },
   "id": "f076d1832cd986d6",
   "execution_count": 61
  },
  {
   "cell_type": "markdown",
   "source": [
    "#### Save data"
   ],
   "metadata": {
    "collapsed": false
   },
   "id": "27ac0cbab023fa29"
  },
  {
   "cell_type": "code",
   "outputs": [],
   "source": [
    "# Remove null values\n",
    "accelerometer_data = accelerometer_data.na.drop()\n",
    "# Drop velocity_diff column\n",
    "accelerometer_data = accelerometer_data.drop(\"velocity_diff\")"
   ],
   "metadata": {
    "collapsed": false,
    "ExecuteTime": {
     "end_time": "2025-02-20T02:35:40.569283413Z",
     "start_time": "2025-02-20T02:35:40.164494083Z"
    }
   },
   "id": "c22a6bbb3f5d95a7",
   "execution_count": 62
  },
  {
   "cell_type": "code",
   "outputs": [
    {
     "name": "stderr",
     "output_type": "stream",
     "text": [
      "                                                                                \r"
     ]
    },
    {
     "data": {
      "text/plain": "38529"
     },
     "execution_count": 63,
     "metadata": {},
     "output_type": "execute_result"
    }
   ],
   "source": [
    "accelerometer_data.persist(StorageLevel.DISK_ONLY)\n",
    "accelerometer_data.count()"
   ],
   "metadata": {
    "collapsed": false,
    "ExecuteTime": {
     "end_time": "2025-02-20T02:35:56.568473733Z",
     "start_time": "2025-02-20T02:35:40.253088809Z"
    }
   },
   "id": "435de0ffc8ba8eb7",
   "execution_count": 63
  },
  {
   "cell_type": "code",
   "outputs": [
    {
     "name": "stdout",
     "output_type": "stream",
     "text": [
      "+------+--------------------+--------------------+--------------------+-------------+--------------------+-----+---+-----+-------------------+--------------------+--------------------+--------------------+-------------------+------------------+-------------------+-------------------+--------------------+-------------------+--------------------+--------------------+--------------------+--------------------+--------------------+----------+-------------------+--------------------+--------------------+--------------------+--------------------+-----------+-------------------+--------------------+--------------------+--------------------+--------------------+--------------------+----------+--------------------+--------------------+--------------------+--------------------+--------------------+-----------+--------------------+--------------------+--------------------+--------------------+--------------------+--------------------+--------------------+--------------------+--------------------+--------------------+--------------------+--------------------+\n",
      "|   pid|                   x|                   y|                   z|         time|         TAC_Reading|label| id|   dt|                 vx|                  vy|                  vz|                   a|                  v|                dx|                 dy|                 dz|            distance|           velocity|        acceleration|         mean_x_1sec|          std_x_1sec|       median_x_1sec|     variance_x_1sec|min_x_1sec|         max_x_1sec|        mean_x_10sec|         std_x_10sec|      median_x_10sec|    variance_x_10sec|min_x_10sec|        max_x_10sec|         mean_y_1sec|          std_y_1sec|       median_y_1sec|     variance_y_1sec|          min_y_1sec|max_y_1sec|        mean_y_10sec|         std_y_10sec|      median_y_10sec|    variance_y_10sec|         min_y_10sec|max_y_10sec|         mean_z_1sec|          std_z_1sec|       median_z_1sec|     variance_z_1sec|          min_z_1sec|          max_z_1sec|        mean_z_10sec|         std_z_10sec|      median_z_10sec|    variance_z_10sec|         min_z_10sec|         max_z_10sec|\n",
      "+------+--------------------+--------------------+--------------------+-------------+--------------------+-----+---+-----+-------------------+--------------------+--------------------+--------------------+-------------------+------------------+-------------------+-------------------+--------------------+-------------------+--------------------+--------------------+--------------------+--------------------+--------------------+----------+-------------------+--------------------+--------------------+--------------------+--------------------+-----------+-------------------+--------------------+--------------------+--------------------+--------------------+--------------------+----------+--------------------+--------------------+--------------------+--------------------+--------------------+-----------+--------------------+--------------------+--------------------+--------------------+--------------------+--------------------+--------------------+--------------------+--------------------+--------------------+--------------------+--------------------+\n",
      "|SA0297|0.009328000000000001|            0.001724|           -0.010492|1493733903921|0.001502176657153...|    0| 20| 1.13|0.08232031599999999|0.022241836000000004|-0.04320511199999998|0.014144462662116225|0.24008925127014596|0.6046529361719999|0.17673481080000006|-0.5959433774239999|0.012536387996548288|0.17079231402216827|0.009360468823497281|0.001729904761904762|0.021010470670369954|             -6.8E-4|4.414398777904761E-4| -0.038768|0.08338799999999999|0.001729904761904762|0.021010470670369954|             -6.8E-4|4.414398777904761E-4|  -0.038768|0.08338799999999999|7.706666666666669E-4|0.002908770828603267|4.919999999999999E-4|8.460947733333335E-6|-0.00289599999999...|  0.009848|7.706666666666669E-4|0.002908770828603267|4.919999999999999E-4|8.460947733333335E-6|-0.00289599999999...|   0.009848|-0.00224095238095...|0.011415015788321058|-0.00305200000000...|1.303025854476190...|-0.02134799999999...|0.042940000000000006|-0.00224095238095...|0.011415015788321058|-0.00305200000000...|1.303025854476190...|-0.02134799999999...|0.042940000000000006|\n",
      "|SA0297|-1.60000000000000...|-7.20000000000001...|-0.00305199999999...|1493733905142|0.001577285490011338|    0| 21|1.221|        0.085607804|0.024053036000000007|-0.04188558799999999|0.003057039090361783|0.23740324084034164|0.7152161146799999|0.20936360946800003|-0.6384230215319999|0.012190215748706011|0.15065513744217857|0.008047236808651189|0.001643999999999...| 0.02050807848257898|             -6.8E-4| 4.20581283047619E-4| -0.038768|0.08338799999999999|0.001643999999999...| 0.02050807848257898|             -6.8E-4| 4.20581283047619E-4|  -0.038768|0.08338799999999999|7.323636363636366E-4|0.002844349160561...|2.919999999999999E-4| 8.09032214718615E-6|-0.00289599999999...|  0.009848|7.323636363636366E-4|0.002844349160561...|2.919999999999999E-4| 8.09032214718615E-6|-0.00289599999999...|   0.009848|-0.00227781818181...|0.011141256677158118|-0.00305200000000...|1.241276003463203...|-0.02134799999999...|0.042940000000000006|-0.00227781818181...|0.011141256677158118|-0.00305200000000...|1.241276003463203...|-0.02134799999999...|0.042940000000000006|\n",
      "|SA0297|-3.72000000000000...|             2.48E-4|           -0.002848|1493733906273|0.001652394322869...|    0| 22|1.131|0.08367391999999997|0.025799316000000003|-0.04226507599999...|0.002882879116438981|0.23712642419513488|0.8110403288879999|0.24053637346400009|-0.6815505917679999|4.346952955807091E-4|0.15249853058506152|0.010615956398114516|0.001556347826086...|0.020040974496830455|-5.63999999999999...|4.016406587826086...| -0.038768|0.08338799999999999|0.001556347826086...|0.020040974496830455|-5.63999999999999...|4.016406587826086...|  -0.038768|0.08338799999999999|7.113043478260872E-4| 0.00278078776338293|2.919999999999999E-4|7.732780584980239E-6|-0.00289599999999...|  0.009848|7.113043478260872E-4| 0.00278078776338293|2.919999999999999E-4|7.732780584980239E-6|-0.00289599999999...|   0.009848|-0.00230260869565...|  0.0108857508603893|-0.00305199999999...|1.184995717944663...|-0.02134799999999...|0.042940000000000006|-0.00230260869565...|  0.0108857508603893|-0.00305199999999...|1.184995717944663...|-0.02134799999999...|0.042940000000000006|\n",
      "|SA0297|-2.32000000000000...|             5.52E-4|-0.00343199999999...|1493733907408|0.001727503155726...|    0| 23|1.135|0.08438239999999997|0.028613516000000002|-0.04350715599999999|0.003483841557820906|0.23750706767517965|0.9101820512079999|0.27929040652400006|-0.7190109568279999|6.731062323288942E-4|0.14727797060034462|0.013376551213766437|0.001481833333333...|0.019603858785335153|-5.63999999999999...|3.843112792753622...| -0.038768|0.08338799999999999|0.001481833333333...|0.019603858785335153|-5.63999999999999...|3.843112792753622...|  -0.038768|0.08338799999999999|7.046666666666669E-4|0.002719858478841783|2.919999999999999E-4|7.397630144927538...|-0.00289599999999...|  0.009848|7.046666666666669E-4|0.002719858478841783|2.919999999999999E-4|7.397630144927538...|-0.00289599999999...|   0.009848|-0.00234966666666...|0.010648970061105385|-0.00305200000000...|1.134005633623188...|-0.02134799999999...|0.042940000000000006|-0.00234966666666...|0.010648970061105385|-0.00305200000000...|1.134005633623188...|-0.02134799999999...|0.042940000000000006|\n",
      "|SA0297|-1.48000000000000...|6.080000000000003E-4|-0.00313200000000...|1493733908537|0.001802611988584...|    0| 24|1.129|0.07681404399999998|0.018161860000000002|         -0.03579652|0.003193899184382626|0.22363948094250014|    0.991904955884| 0.2934812168160001|-0.7347744450239999|3.165311990941801E-4| 0.1404369063527681| 0.01606086548947067|0.001416639999999...|0.019193867863808306|-3.72000000000000...|3.684045635733332...| -0.038768|0.08338799999999999|0.001416639999999...|0.019193867863808306|-3.72000000000000...|3.684045635733332...|  -0.038768|0.08338799999999999|7.008000000000003E-4|0.002662662076444049|4.919999999999999E-4|7.089769333333335E-6|-0.00289599999999...|  0.009848|7.008000000000003E-4|0.002662662076444049|4.919999999999999E-4|7.089769333333335E-6|-0.00289599999999...|   0.009848|         -0.00238096|0.010425930256176984|-0.00305200000000...|1.087000217066666...|-0.02134799999999...|0.042940000000000006|         -0.00238096|0.010425930256176984|-0.00305200000000...|1.087000217066666...|-0.02134799999999...|0.042940000000000006|\n",
      "+------+--------------------+--------------------+--------------------+-------------+--------------------+-----+---+-----+-------------------+--------------------+--------------------+--------------------+-------------------+------------------+-------------------+-------------------+--------------------+-------------------+--------------------+--------------------+--------------------+--------------------+--------------------+----------+-------------------+--------------------+--------------------+--------------------+--------------------+-----------+-------------------+--------------------+--------------------+--------------------+--------------------+--------------------+----------+--------------------+--------------------+--------------------+--------------------+--------------------+-----------+--------------------+--------------------+--------------------+--------------------+--------------------+--------------------+--------------------+--------------------+--------------------+--------------------+--------------------+--------------------+\n"
     ]
    }
   ],
   "source": [
    "accelerometer_data.show(5)"
   ],
   "metadata": {
    "collapsed": false,
    "ExecuteTime": {
     "end_time": "2025-02-20T02:35:57.562878433Z",
     "start_time": "2025-02-20T02:35:56.562526078Z"
    }
   },
   "id": "a4e5f5e17f362342",
   "execution_count": 64
  },
  {
   "cell_type": "code",
   "outputs": [
    {
     "name": "stderr",
     "output_type": "stream",
     "text": [
      "                                                                                \r"
     ]
    }
   ],
   "source": [
    "# Plot TAC_Reading\n",
    "import matplotlib.pyplot as plt\n",
    "import pandas as pd\n",
    "tac_reading = accelerometer_data.select(\"time\", \"TAC_Reading\", \"acceleration\", \"velocity\", \"x\", \"y\", \"z\", 'mean_x_1sec',\"std_x_1sec\", \"max_x_10sec\").toPandas()"
   ],
   "metadata": {
    "collapsed": false,
    "ExecuteTime": {
     "end_time": "2025-02-20T02:36:00.775976280Z",
     "start_time": "2025-02-20T02:35:57.558987293Z"
    }
   },
   "id": "904e1aa8890418ec",
   "execution_count": 65
  },
  {
   "cell_type": "code",
   "outputs": [
    {
     "data": {
      "text/plain": "<Figure size 2000x1000 with 9 Axes>",
      "image/png": "[encoded data removed]"
     },
     "metadata": {},
     "output_type": "display_data"
    }
   ],
   "source": [
    "# Plot six columns\n",
    "fig, axs = plt.subplots(3, 3, figsize=(20, 10))\n",
    "axs[0, 0].plot(tac_reading[\"time\"], tac_reading[\"TAC_Reading\"])\n",
    "axs[0, 0].set_title(\"TAC Reading\")\n",
    "axs[0, 1].plot(tac_reading[\"time\"], tac_reading[\"acceleration\"])\n",
    "axs[0, 1].set_title(\"Acceleration\")\n",
    "axs[0, 2].plot(tac_reading[\"time\"], tac_reading[\"velocity\"])\n",
    "axs[0, 2].set_title(\"Velocity\")\n",
    "axs[1, 0].plot(tac_reading[\"time\"], tac_reading[\"x\"])\n",
    "axs[1, 0].set_title(\"X\")\n",
    "axs[1, 1].plot(tac_reading[\"time\"], tac_reading[\"y\"])\n",
    "axs[1, 1].set_title(\"Y\")\n",
    "axs[1, 2].plot(tac_reading[\"time\"], tac_reading[\"z\"])\n",
    "axs[1, 2].set_title(\"Z\")\n",
    "axs[2, 0].plot(tac_reading[\"time\"], tac_reading[\"mean_x_1sec\"])\n",
    "axs[2, 0].set_title(\"Mean X 1 sec\")\n",
    "axs[2, 1].plot(tac_reading[\"time\"], tac_reading[\"std_x_1sec\"])\n",
    "axs[2, 1].set_title(\"Std X 1 sec\")\n",
    "axs[2, 2].plot(tac_reading[\"time\"], tac_reading[\"max_x_10sec\"])\n",
    "axs[2, 2].set_title(\"Max X 10 sec\")\n",
    "plt.show()"
   ],
   "metadata": {
    "collapsed": false,
    "ExecuteTime": {
     "end_time": "2025-02-20T02:36:02.416582913Z",
     "start_time": "2025-02-20T02:36:00.761993446Z"
    }
   },
   "id": "f303d0464462fc58",
   "execution_count": 66
  },
  {
   "cell_type": "markdown",
   "source": [
    "# Decision tree"
   ],
   "metadata": {
    "collapsed": false
   },
   "id": "bdde12ed9faa8e56"
  },
  {
   "cell_type": "code",
   "outputs": [
    {
     "name": "stdout",
     "output_type": "stream",
     "text": [
      "+------+--------------------+--------------------+--------------------+-------------+--------------------+-----+---+-----+-------------------+--------------------+--------------------+--------------------+-------------------+------------------+-------------------+-------------------+--------------------+-------------------+--------------------+--------------------+--------------------+--------------------+--------------------+----------+-------------------+--------------------+--------------------+--------------------+--------------------+-----------+-------------------+--------------------+--------------------+--------------------+--------------------+--------------------+----------+--------------------+--------------------+--------------------+--------------------+--------------------+-----------+--------------------+--------------------+--------------------+--------------------+--------------------+--------------------+--------------------+--------------------+--------------------+--------------------+--------------------+--------------------+\n",
      "|   pid|                   x|                   y|                   z|         time|         TAC_Reading|label| id|   dt|                 vx|                  vy|                  vz|                   a|                  v|                dx|                 dy|                 dz|            distance|           velocity|        acceleration|         mean_x_1sec|          std_x_1sec|       median_x_1sec|     variance_x_1sec|min_x_1sec|         max_x_1sec|        mean_x_10sec|         std_x_10sec|      median_x_10sec|    variance_x_10sec|min_x_10sec|        max_x_10sec|         mean_y_1sec|          std_y_1sec|       median_y_1sec|     variance_y_1sec|          min_y_1sec|max_y_1sec|        mean_y_10sec|         std_y_10sec|      median_y_10sec|    variance_y_10sec|         min_y_10sec|max_y_10sec|         mean_z_1sec|          std_z_1sec|       median_z_1sec|     variance_z_1sec|          min_z_1sec|          max_z_1sec|        mean_z_10sec|         std_z_10sec|      median_z_10sec|    variance_z_10sec|         min_z_10sec|         max_z_10sec|\n",
      "+------+--------------------+--------------------+--------------------+-------------+--------------------+-----+---+-----+-------------------+--------------------+--------------------+--------------------+-------------------+------------------+-------------------+-------------------+--------------------+-------------------+--------------------+--------------------+--------------------+--------------------+--------------------+----------+-------------------+--------------------+--------------------+--------------------+--------------------+-----------+-------------------+--------------------+--------------------+--------------------+--------------------+--------------------+----------+--------------------+--------------------+--------------------+--------------------+--------------------+-----------+--------------------+--------------------+--------------------+--------------------+--------------------+--------------------+--------------------+--------------------+--------------------+--------------------+--------------------+--------------------+\n",
      "|SA0297|0.009328000000000001|            0.001724|           -0.010492|1493733903921|0.001502176657153...|    0| 20| 1.13|0.08232031599999999|0.022241836000000004|-0.04320511199999998|0.014144462662116225|0.24008925127014596|0.6046529361719999|0.17673481080000006|-0.5959433774239999|0.012536387996548288|0.17079231402216827|0.009360468823497281|0.001729904761904762|0.021010470670369954|             -6.8E-4|4.414398777904761E-4| -0.038768|0.08338799999999999|0.001729904761904762|0.021010470670369954|             -6.8E-4|4.414398777904761E-4|  -0.038768|0.08338799999999999|7.706666666666669E-4|0.002908770828603267|4.919999999999999E-4|8.460947733333335E-6|-0.00289599999999...|  0.009848|7.706666666666669E-4|0.002908770828603267|4.919999999999999E-4|8.460947733333335E-6|-0.00289599999999...|   0.009848|-0.00224095238095...|0.011415015788321058|-0.00305200000000...|1.303025854476190...|-0.02134799999999...|0.042940000000000006|-0.00224095238095...|0.011415015788321058|-0.00305200000000...|1.303025854476190...|-0.02134799999999...|0.042940000000000006|\n",
      "|SA0297|-1.60000000000000...|-7.20000000000001...|-0.00305199999999...|1493733905142|0.001577285490011338|    0| 21|1.221|        0.085607804|0.024053036000000007|-0.04188558799999999|0.003057039090361783|0.23740324084034164|0.7152161146799999|0.20936360946800003|-0.6384230215319999|0.012190215748706011|0.15065513744217857|0.008047236808651189|0.001643999999999...| 0.02050807848257898|             -6.8E-4| 4.20581283047619E-4| -0.038768|0.08338799999999999|0.001643999999999...| 0.02050807848257898|             -6.8E-4| 4.20581283047619E-4|  -0.038768|0.08338799999999999|7.323636363636366E-4|0.002844349160561...|2.919999999999999E-4| 8.09032214718615E-6|-0.00289599999999...|  0.009848|7.323636363636366E-4|0.002844349160561...|2.919999999999999E-4| 8.09032214718615E-6|-0.00289599999999...|   0.009848|-0.00227781818181...|0.011141256677158118|-0.00305200000000...|1.241276003463203...|-0.02134799999999...|0.042940000000000006|-0.00227781818181...|0.011141256677158118|-0.00305200000000...|1.241276003463203...|-0.02134799999999...|0.042940000000000006|\n",
      "|SA0297|-3.72000000000000...|             2.48E-4|           -0.002848|1493733906273|0.001652394322869...|    0| 22|1.131|0.08367391999999997|0.025799316000000003|-0.04226507599999...|0.002882879116438981|0.23712642419513488|0.8110403288879999|0.24053637346400009|-0.6815505917679999|4.346952955807091E-4|0.15249853058506152|0.010615956398114516|0.001556347826086...|0.020040974496830455|-5.63999999999999...|4.016406587826086...| -0.038768|0.08338799999999999|0.001556347826086...|0.020040974496830455|-5.63999999999999...|4.016406587826086...|  -0.038768|0.08338799999999999|7.113043478260872E-4| 0.00278078776338293|2.919999999999999E-4|7.732780584980239E-6|-0.00289599999999...|  0.009848|7.113043478260872E-4| 0.00278078776338293|2.919999999999999E-4|7.732780584980239E-6|-0.00289599999999...|   0.009848|-0.00230260869565...|  0.0108857508603893|-0.00305199999999...|1.184995717944663...|-0.02134799999999...|0.042940000000000006|-0.00230260869565...|  0.0108857508603893|-0.00305199999999...|1.184995717944663...|-0.02134799999999...|0.042940000000000006|\n",
      "|SA0297|-2.32000000000000...|             5.52E-4|-0.00343199999999...|1493733907408|0.001727503155726...|    0| 23|1.135|0.08438239999999997|0.028613516000000002|-0.04350715599999999|0.003483841557820906|0.23750706767517965|0.9101820512079999|0.27929040652400006|-0.7190109568279999|6.731062323288942E-4|0.14727797060034462|0.013376551213766437|0.001481833333333...|0.019603858785335153|-5.63999999999999...|3.843112792753622...| -0.038768|0.08338799999999999|0.001481833333333...|0.019603858785335153|-5.63999999999999...|3.843112792753622...|  -0.038768|0.08338799999999999|7.046666666666669E-4|0.002719858478841783|2.919999999999999E-4|7.397630144927538...|-0.00289599999999...|  0.009848|7.046666666666669E-4|0.002719858478841783|2.919999999999999E-4|7.397630144927538...|-0.00289599999999...|   0.009848|-0.00234966666666...|0.010648970061105385|-0.00305200000000...|1.134005633623188...|-0.02134799999999...|0.042940000000000006|-0.00234966666666...|0.010648970061105385|-0.00305200000000...|1.134005633623188...|-0.02134799999999...|0.042940000000000006|\n",
      "|SA0297|-1.48000000000000...|6.080000000000003E-4|-0.00313200000000...|1493733908537|0.001802611988584...|    0| 24|1.129|0.07681404399999998|0.018161860000000002|         -0.03579652|0.003193899184382626|0.22363948094250014|    0.991904955884| 0.2934812168160001|-0.7347744450239999|3.165311990941801E-4| 0.1404369063527681| 0.01606086548947067|0.001416639999999...|0.019193867863808306|-3.72000000000000...|3.684045635733332...| -0.038768|0.08338799999999999|0.001416639999999...|0.019193867863808306|-3.72000000000000...|3.684045635733332...|  -0.038768|0.08338799999999999|7.008000000000003E-4|0.002662662076444049|4.919999999999999E-4|7.089769333333335E-6|-0.00289599999999...|  0.009848|7.008000000000003E-4|0.002662662076444049|4.919999999999999E-4|7.089769333333335E-6|-0.00289599999999...|   0.009848|         -0.00238096|0.010425930256176984|-0.00305200000000...|1.087000217066666...|-0.02134799999999...|0.042940000000000006|         -0.00238096|0.010425930256176984|-0.00305200000000...|1.087000217066666...|-0.02134799999999...|0.042940000000000006|\n",
      "+------+--------------------+--------------------+--------------------+-------------+--------------------+-----+---+-----+-------------------+--------------------+--------------------+--------------------+-------------------+------------------+-------------------+-------------------+--------------------+-------------------+--------------------+--------------------+--------------------+--------------------+--------------------+----------+-------------------+--------------------+--------------------+--------------------+--------------------+-----------+-------------------+--------------------+--------------------+--------------------+--------------------+--------------------+----------+--------------------+--------------------+--------------------+--------------------+--------------------+-----------+--------------------+--------------------+--------------------+--------------------+--------------------+--------------------+--------------------+--------------------+--------------------+--------------------+--------------------+--------------------+\n"
     ]
    }
   ],
   "source": [
    "accelerometer_data.show(5)"
   ],
   "metadata": {
    "collapsed": false,
    "ExecuteTime": {
     "end_time": "2025-02-20T02:36:03.847364734Z",
     "start_time": "2025-02-20T02:36:02.416519888Z"
    }
   },
   "id": "d78f287beb2875b0",
   "execution_count": 67
  },
  {
   "cell_type": "code",
   "outputs": [],
   "source": [
    "dataset = accelerometer_data"
   ],
   "metadata": {
    "collapsed": false,
    "ExecuteTime": {
     "end_time": "2025-02-20T02:36:03.874715246Z",
     "start_time": "2025-02-20T02:36:03.844465879Z"
    }
   },
   "id": "21a17307614f080d",
   "execution_count": 68
  },
  {
   "cell_type": "code",
   "outputs": [
    {
     "name": "stderr",
     "output_type": "stream",
     "text": [
      "                                                                                \r"
     ]
    },
    {
     "data": {
      "text/plain": "38529"
     },
     "execution_count": 69,
     "metadata": {},
     "output_type": "execute_result"
    }
   ],
   "source": [
    "dataset.count()"
   ],
   "metadata": {
    "collapsed": false,
    "ExecuteTime": {
     "end_time": "2025-02-20T02:36:05.149605038Z",
     "start_time": "2025-02-20T02:36:03.848494769Z"
    }
   },
   "id": "c0866b993704fa24",
   "execution_count": 69
  },
  {
   "cell_type": "code",
   "outputs": [],
   "source": [
    "window_size = 25\n",
    "window_spec = Window.partitionBy(\"pid\").orderBy(\"time\").rowsBetween(-(window_size // 2), (window_size // 2)) # 1/45 milisecs, 50 aggregations = 54 second on avg"
   ],
   "metadata": {
    "collapsed": false,
    "ExecuteTime": {
     "end_time": "2025-02-20T02:36:05.187181485Z",
     "start_time": "2025-02-20T02:36:05.123002555Z"
    }
   },
   "id": "18aefd569ae2619c",
   "execution_count": 70
  },
  {
   "cell_type": "code",
   "outputs": [],
   "source": [
    "assembler = VectorAssembler(\n",
    "    inputCols=feature_columns,\n",
    "    outputCol=\"vector\"\n",
    ")"
   ],
   "metadata": {
    "collapsed": false,
    "ExecuteTime": {
     "end_time": "2025-02-20T02:36:05.412928133Z",
     "start_time": "2025-02-20T02:36:05.135961377Z"
    }
   },
   "id": "86b999d451782a2f",
   "execution_count": 71
  },
  {
   "cell_type": "code",
   "outputs": [],
   "source": [
    "dataset = assembler.transform(dataset)"
   ],
   "metadata": {
    "collapsed": false,
    "ExecuteTime": {
     "end_time": "2025-02-20T02:36:05.447246879Z",
     "start_time": "2025-02-20T02:36:05.156699165Z"
    }
   },
   "id": "725f483b9982d725",
   "execution_count": 72
  },
  {
   "cell_type": "code",
   "outputs": [],
   "source": [
    "dataset = dataset.withColumn(\n",
    "    \"feature\", \n",
    "    collect_list(\"vector\").over(window_spec)\n",
    ")"
   ],
   "metadata": {
    "collapsed": false,
    "ExecuteTime": {
     "end_time": "2025-02-20T02:36:05.579051759Z",
     "start_time": "2025-02-20T02:36:05.393062380Z"
    }
   },
   "id": "b216fa16cfd2a7e3",
   "execution_count": 73
  },
  {
   "cell_type": "code",
   "outputs": [],
   "source": [
    "dataset = dataset.filter(F.size(dataset.feature) == window_size)"
   ],
   "metadata": {
    "collapsed": false,
    "ExecuteTime": {
     "end_time": "2025-02-20T02:36:05.706350181Z",
     "start_time": "2025-02-20T02:36:05.493280929Z"
    }
   },
   "id": "fad184690b04db66",
   "execution_count": 74
  },
  {
   "cell_type": "code",
   "outputs": [],
   "source": [
    "from pyspark.ml.linalg import VectorUDT\n",
    "\n",
    "\n",
    "def merge_vectors(vectors):\n",
    "    if vectors is None:\n",
    "        return None\n",
    "    merged_array = []\n",
    "    for v in vectors:\n",
    "        merged_array.extend(v.toArray())\n",
    "    return Vectors.dense(merged_array)\n",
    "\n",
    "merged_vectors = F.udf(merge_vectors, VectorUDT())"
   ],
   "metadata": {
    "collapsed": false,
    "ExecuteTime": {
     "end_time": "2025-02-20T02:36:05.756712450Z",
     "start_time": "2025-02-20T02:36:05.548703186Z"
    }
   },
   "id": "7dd1c4d0592345e5",
   "execution_count": 75
  },
  {
   "cell_type": "code",
   "outputs": [],
   "source": [
    "dataset = dataset.withColumn(\"flat_feature\", merged_vectors(\"feature\"))"
   ],
   "metadata": {
    "collapsed": false,
    "ExecuteTime": {
     "end_time": "2025-02-20T02:36:05.855734208Z",
     "start_time": "2025-02-20T02:36:05.553717739Z"
    }
   },
   "id": "e4e761cddfe4e702",
   "execution_count": 76
  },
  {
   "cell_type": "code",
   "outputs": [
    {
     "name": "stderr",
     "output_type": "stream",
     "text": [
      "[Stage 310:>                                                        (0 + 1) / 1]\r"
     ]
    },
    {
     "name": "stdout",
     "output_type": "stream",
     "text": [
      "+-------+------+--------------------+--------------------+--------------------+--------------------+--------------------+-------------------+------------------+-----------------+--------------------+--------------------+--------------------+--------------------+--------------------+------------------+-------------------+-------------------+--------------------+--------------------+--------------------+--------------------+--------------------+--------------------+--------------------+--------------------+--------------------+--------------------+--------------------+--------------------+--------------------+--------------------+--------------------+--------------------+--------------------+--------------------+--------------------+--------------------+--------------------+--------------------+--------------------+--------------------+--------------------+--------------------+--------------------+--------------------+--------------------+--------------------+--------------------+--------------------+--------------------+--------------------+--------------------+--------------------+--------------------+--------------------+--------------------+\n",
      "|summary|   pid|                   x|                   y|                   z|                time|         TAC_Reading|              label|                id|               dt|                  vx|                  vy|                  vz|                   a|                   v|                dx|                 dy|                 dz|            distance|            velocity|        acceleration|         mean_x_1sec|          std_x_1sec|       median_x_1sec|     variance_x_1sec|          min_x_1sec|          max_x_1sec|        mean_x_10sec|         std_x_10sec|      median_x_10sec|    variance_x_10sec|         min_x_10sec|         max_x_10sec|         mean_y_1sec|          std_y_1sec|       median_y_1sec|     variance_y_1sec|          min_y_1sec|          max_y_1sec|        mean_y_10sec|         std_y_10sec|      median_y_10sec|    variance_y_10sec|         min_y_10sec|         max_y_10sec|         mean_z_1sec|          std_z_1sec|       median_z_1sec|     variance_z_1sec|          min_z_1sec|          max_z_1sec|        mean_z_10sec|         std_z_10sec|      median_z_10sec|    variance_z_10sec|         min_z_10sec|         max_z_10sec|\n",
      "+-------+------+--------------------+--------------------+--------------------+--------------------+--------------------+-------------------+------------------+-----------------+--------------------+--------------------+--------------------+--------------------+--------------------+------------------+-------------------+-------------------+--------------------+--------------------+--------------------+--------------------+--------------------+--------------------+--------------------+--------------------+--------------------+--------------------+--------------------+--------------------+--------------------+--------------------+--------------------+--------------------+--------------------+--------------------+--------------------+--------------------+--------------------+--------------------+--------------------+--------------------+--------------------+--------------------+--------------------+--------------------+--------------------+--------------------+--------------------+--------------------+--------------------+--------------------+--------------------+--------------------+--------------------+--------------------+--------------------+\n",
      "|  count| 38505|               38505|               38505|               38505|               38505|               38505|              38505|             38505|            38505|               38505|               38505|               38505|               38505|               38505|             38505|              38505|              38505|               38505|               38505|               38505|               38505|               38505|               38505|               38505|               38505|               38505|               38505|               38505|               38505|               38505|               38505|               38505|               38505|               38505|               38505|               38505|               38505|               38505|               38505|               38505|               38505|               38505|               38505|               38505|               38505|               38505|               38505|               38505|               38505|               38505|               38505|               38505|               38505|               38505|               38505|               38505|\n",
      "|   mean|  NULL|-0.00283208549539...|-5.00299441630966...|-0.00417014995455...|1.493791343373302...|0.027509329121935523|0.14408518374237111|19291.290585638228|2.358284742241151|-0.49446322880415117|-0.12035610413961903|-0.08495575410414202|0.023075033889788852|  1.5487860802639308|-2997.262872564929|-241.30360008964945| -530.7083540754302|0.019943775398676616| 0.16136642069475848|-0.00108007122490...|-0.00284527154914...|0.010401531063483583|-0.00319895603168...|5.106370506243515E-4|-0.02642308375535678|0.020991160888196386|-0.00284527154914...|0.010401531063483583|-0.00319895603168...|5.106370506243515E-4|-0.02642308375535678|0.020991160888196386|-5.06573866102739...|0.011937601704236554|-0.00146421971172...|6.759057556248009E-4|-0.02568062391897246|0.029421300246718567|-5.06573866102739...|0.011937601704236554|-0.00146421971172...|6.759057556248009E-4|-0.02568062391897246|0.029421300246718567|-0.00417569747899...|  0.0109505564279833|-0.00362082249058...|6.772359865065369E-4|-0.03255454252694143|0.017395069990910374|-0.00417569747899...|  0.0109505564279833|-0.00362082249058...|6.772359865065369E-4|-0.03255454252694143|0.017395069990910374|\n",
      "| stddev|  NULL|  0.0305477484629759| 0.03883943454286877| 0.03339705789630405|2.3440554195080224E7| 0.05086804106576572| 0.3511806464955375|  11117.7372693399|71.24603329097229|   26.41246790386466|   8.031606759898196|    6.14050817170634| 0.05522880494038761|   28.74681880445291|158768.00942920364| 35527.278178368775| 30875.310414338182| 0.04749797276285553|  0.2996512878795725| 0.07388383037017651|0.020952612693233615|0.020061297420554437| 0.02120701761793044|0.001736846226037...|0.058832807660146924| 0.04365758660812306|0.020952612693233615|0.020061297420554437| 0.02120701761793044|0.001736846226037...|0.058832807660146924| 0.04365758660812306|0.029253697090145404|0.023095741474716512|0.030306285134043424|0.002535158324390...| 0.05854145917527083| 0.06414938101537995|0.029253697090145404|0.023095741474716512|0.030306285134043424|0.002535158324390...| 0.05854145917527083| 0.06414938101537995|0.021480137525813726|0.023607959988067344|0.020735954791601854|0.005555291737064829| 0.07158864715167612| 0.05822546489325113|0.021480137525813726|0.023607959988067344|0.020735954791601854|0.005555291737064829| 0.07158864715167612| 0.05822546489325113|\n",
      "|    min|SA0297|           -0.508572| -0.6577640000000001| -1.7064960000000002|       1493733917581| -0.0212745069534411|                  0|                32|            0.007| -1189.1679660720004| -213.33224918800005|      -194.541182332|1.792428520192646E-4|0.009188458741502375|-7198772.935789753| -984536.9353232088|-1275231.6112274062|                 0.0|2.820305379324722...| -0.8195027453968696| -0.2469608571428572| 8.02740016687554E-5|-0.24422799999999992|6.443915343915345E-9|           -0.508572|           -0.149292| -0.2469608571428572| 8.02740016687554E-5|-0.24422799999999992|6.443915343915345E-9|           -0.508572|           -0.149292| -0.5127137142857143|5.787196230614634...| -0.5125919999999999|3.349164021164023...| -0.6577640000000001|           -0.323124| -0.5127137142857143|5.787196230614634...| -0.5125919999999999|3.349164021164023...| -0.6577640000000001|           -0.323124|-0.14546214285714282|1.285052857496863...|           -0.143396|1.651360846560853...| -1.7064960000000002|-0.04723200000000001|-0.14546214285714282|1.285052857496863...|           -0.143396|1.651360846560853...| -1.7064960000000002|-0.04723200000000001|\n",
      "|    max|SA0297|  0.3392319999999999|  0.6237039999999999|  1.1664119999999998|       1493824722206|    0.18264365205783|                  1|             38545|           7362.0|  155.11404461199993|  234.52714350800005|  188.18819377999998|  1.7411874295939542|  1242.2720051300084| 715236.3525974393| 1195393.8005129455|  421231.7685065844|  1.7364373738571746|  2.2181798479722175|  0.8537247031021784| 0.09095942857142858|  0.2178909228140098|             0.08148| 0.04747645424474077|0.002044000000000...|  0.3392319999999999| 0.09095942857142858|  0.2178909228140098|             0.08148| 0.04747645424474077|0.002044000000000...|  0.3392319999999999| 0.18180114285714286|  0.2808945412831041| 0.16950000000000004| 0.07890174332264548| 0.10046000000000001|  0.6237039999999999| 0.18180114285714286|  0.2808945412831041| 0.16950000000000004| 0.07890174332264548| 0.10046000000000001|  0.6237039999999999|  0.3108390000000001|  0.4365051898719937| 0.32087599999999994| 0.19053678078518527| 0.21398400000000006|  1.1664119999999998|  0.3108390000000001|  0.4365051898719937| 0.32087599999999994| 0.19053678078518527| 0.21398400000000006|  1.1664119999999998|\n",
      "+-------+------+--------------------+--------------------+--------------------+--------------------+--------------------+-------------------+------------------+-----------------+--------------------+--------------------+--------------------+--------------------+--------------------+------------------+-------------------+-------------------+--------------------+--------------------+--------------------+--------------------+--------------------+--------------------+--------------------+--------------------+--------------------+--------------------+--------------------+--------------------+--------------------+--------------------+--------------------+--------------------+--------------------+--------------------+--------------------+--------------------+--------------------+--------------------+--------------------+--------------------+--------------------+--------------------+--------------------+--------------------+--------------------+--------------------+--------------------+--------------------+--------------------+--------------------+--------------------+--------------------+--------------------+--------------------+--------------------+\n"
     ]
    },
    {
     "name": "stderr",
     "output_type": "stream",
     "text": [
      "                                                                                \r"
     ]
    }
   ],
   "source": [
    "dataset.describe().show(5)"
   ],
   "metadata": {
    "collapsed": false,
    "ExecuteTime": {
     "end_time": "2025-02-20T02:36:35.292597819Z",
     "start_time": "2025-02-20T02:36:05.654725174Z"
    }
   },
   "id": "9ed2b37c5e6e901f",
   "execution_count": 77
  },
  {
   "cell_type": "code",
   "outputs": [
    {
     "name": "stderr",
     "output_type": "stream",
     "text": [
      "                                                                                \r"
     ]
    }
   ],
   "source": [
    "# Count of rows to variable, where label is 0\n",
    "count_label_0 = dataset.filter(dataset[\"label\"] == 0).count()\n",
    "# Count of rows to variable, where label is 1\n",
    "count_label_1 = dataset.filter(dataset[\"label\"] == 1).count()"
   ],
   "metadata": {
    "collapsed": false,
    "ExecuteTime": {
     "end_time": "2025-02-20T02:36:40.094864025Z",
     "start_time": "2025-02-20T02:36:35.262318936Z"
    }
   },
   "id": "d602a336a006c60d",
   "execution_count": 78
  },
  {
   "cell_type": "code",
   "outputs": [
    {
     "name": "stdout",
     "output_type": "stream",
     "text": [
      "Label 0 count: 32957, Label 1 count: 5548\n"
     ]
    }
   ],
   "source": [
    "print(f\"Label 0 count: {count_label_0}, Label 1 count: {count_label_1}\")"
   ],
   "metadata": {
    "collapsed": false,
    "ExecuteTime": {
     "end_time": "2025-02-20T02:36:40.163006091Z",
     "start_time": "2025-02-20T02:36:40.088042679Z"
    }
   },
   "id": "f52b87a1345d16a0",
   "execution_count": 79
  },
  {
   "cell_type": "code",
   "outputs": [
    {
     "name": "stderr",
     "output_type": "stream",
     "text": [
      "                                                                                \r"
     ]
    },
    {
     "data": {
      "text/plain": "11096"
     },
     "execution_count": 80,
     "metadata": {},
     "output_type": "execute_result"
    }
   ],
   "source": [
    "# Randomly del rows, so count_label_0 == count_label_1\n",
    "dataset = dataset.filter(dataset[\"label\"] == 0).limit(count_label_1).union(dataset.filter(dataset[\"label\"] == 1))\n",
    "dataset.persist(StorageLevel.DISK_ONLY)\n",
    "dataset.count()"
   ],
   "metadata": {
    "collapsed": false,
    "ExecuteTime": {
     "end_time": "2025-02-20T02:37:20.692769320Z",
     "start_time": "2025-02-20T02:36:40.100475992Z"
    }
   },
   "id": "a4046fe9cb53155f",
   "execution_count": 80
  },
  {
   "cell_type": "code",
   "outputs": [],
   "source": [
    "train, test = dataset.randomSplit([0.8, 0.2], seed=42)"
   ],
   "metadata": {
    "collapsed": false,
    "ExecuteTime": {
     "end_time": "2025-02-20T02:37:20.955339318Z",
     "start_time": "2025-02-20T02:37:20.686060714Z"
    }
   },
   "id": "92483f674f43d9e3",
   "execution_count": 81
  },
  {
   "cell_type": "code",
   "outputs": [
    {
     "name": "stderr",
     "output_type": "stream",
     "text": [
      "25/02/20 03:37:40 WARN DAGScheduler: Broadcasting large task binary with size 1001.8 KiB\n",
      "25/02/20 03:37:44 WARN DAGScheduler: Broadcasting large task binary with size 1025.8 KiB\n",
      "25/02/20 03:37:48 WARN DAGScheduler: Broadcasting large task binary with size 1069.2 KiB\n",
      "25/02/20 03:37:55 WARN DAGScheduler: Broadcasting large task binary with size 1143.7 KiB\n",
      "25/02/20 03:38:02 WARN DAGScheduler: Broadcasting large task binary with size 1251.3 KiB\n",
      "                                                                                \r"
     ]
    }
   ],
   "source": [
    "from pyspark.ml.classification import RandomForestClassifier\n",
    "rf = RandomForestClassifier(labelCol=\"label\", featuresCol=\"flat_feature\", numTrees=50)\n",
    "model = rf.fit(train)"
   ],
   "metadata": {
    "collapsed": false,
    "ExecuteTime": {
     "end_time": "2025-02-20T02:38:13.118762661Z",
     "start_time": "2025-02-20T02:37:20.958475693Z"
    }
   },
   "id": "f26912b4219b052a",
   "execution_count": 82
  },
  {
   "cell_type": "code",
   "outputs": [],
   "source": [
    "pred = model.transform(test)"
   ],
   "metadata": {
    "collapsed": false,
    "ExecuteTime": {
     "end_time": "2025-02-20T02:38:13.486762125Z",
     "start_time": "2025-02-20T02:38:13.121616546Z"
    }
   },
   "id": "539cf25d54026b97",
   "execution_count": 83
  },
  {
   "cell_type": "code",
   "outputs": [
    {
     "name": "stderr",
     "output_type": "stream",
     "text": [
      "[Stage 448:==================================================>  (193 + 8) / 201]\r"
     ]
    },
    {
     "name": "stdout",
     "output_type": "stream",
     "text": [
      "Random Forest accuracy: 0.7888227210261108\n"
     ]
    },
    {
     "name": "stderr",
     "output_type": "stream",
     "text": [
      "                                                                                \r"
     ]
    }
   ],
   "source": [
    "from pyspark.ml.evaluation import MulticlassClassificationEvaluator\n",
    "\n",
    "evaluator = MulticlassClassificationEvaluator(labelCol=\"label\", predictionCol=\"prediction\", metricName=\"accuracy\")\n",
    "accuracy = evaluator.evaluate(pred)\n",
    "print(f\"Random Forest accuracy: {accuracy}\")\n"
   ],
   "metadata": {
    "collapsed": false,
    "ExecuteTime": {
     "end_time": "2025-02-20T02:38:16.534375707Z",
     "start_time": "2025-02-20T02:38:13.495311036Z"
    }
   },
   "id": "650dcbaa88301959",
   "execution_count": 84
  },
  {
   "cell_type": "code",
   "outputs": [
    {
     "name": "stderr",
     "output_type": "stream",
     "text": [
      "25/02/20 03:38:37 WARN DAGScheduler: Broadcasting large task binary with size 1240.3 KiB\n",
      "[Stage 464:>                                                        (0 + 1) / 1]\r"
     ]
    },
    {
     "name": "stdout",
     "output_type": "stream",
     "text": [
      "+-------+------+--------------------+--------------------+--------------------+--------------------+--------------------+------------------+------------------+-----------------+-------------------+-------------------+------------------+--------------------+--------------------+-------------------+-------------------+-------------------+-------------------+--------------------+--------------------+--------------------+--------------------+--------------------+--------------------+--------------------+--------------------+--------------------+--------------------+--------------------+--------------------+--------------------+--------------------+--------------------+--------------------+--------------------+--------------------+--------------------+-------------------+--------------------+--------------------+--------------------+--------------------+--------------------+-------------------+--------------------+--------------------+--------------------+--------------------+--------------------+--------------------+--------------------+--------------------+--------------------+--------------------+--------------------+--------------------+------------------+\n",
      "|summary|   pid|                   x|                   y|                   z|                time|         TAC_Reading|             label|                id|               dt|                 vx|                 vy|                vz|                   a|                   v|                 dx|                 dy|                 dz|           distance|            velocity|        acceleration|         mean_x_1sec|          std_x_1sec|       median_x_1sec|     variance_x_1sec|          min_x_1sec|          max_x_1sec|        mean_x_10sec|         std_x_10sec|      median_x_10sec|    variance_x_10sec|         min_x_10sec|         max_x_10sec|         mean_y_1sec|          std_y_1sec|       median_y_1sec|     variance_y_1sec|          min_y_1sec|         max_y_1sec|        mean_y_10sec|         std_y_10sec|      median_y_10sec|    variance_y_10sec|         min_y_10sec|        max_y_10sec|         mean_z_1sec|          std_z_1sec|       median_z_1sec|     variance_z_1sec|          min_z_1sec|          max_z_1sec|        mean_z_10sec|         std_z_10sec|      median_z_10sec|    variance_z_10sec|         min_z_10sec|         max_z_10sec|        prediction|\n",
      "+-------+------+--------------------+--------------------+--------------------+--------------------+--------------------+------------------+------------------+-----------------+-------------------+-------------------+------------------+--------------------+--------------------+-------------------+-------------------+-------------------+-------------------+--------------------+--------------------+--------------------+--------------------+--------------------+--------------------+--------------------+--------------------+--------------------+--------------------+--------------------+--------------------+--------------------+--------------------+--------------------+--------------------+--------------------+--------------------+--------------------+-------------------+--------------------+--------------------+--------------------+--------------------+--------------------+-------------------+--------------------+--------------------+--------------------+--------------------+--------------------+--------------------+--------------------+--------------------+--------------------+--------------------+--------------------+--------------------+------------------+\n",
      "|  count|  2183|                2183|                2183|                2183|                2183|                2183|              2183|              2183|             2183|               2183|               2183|              2183|                2183|                2183|               2183|               2183|               2183|               2183|                2183|                2183|                2183|                2183|                2183|                2183|                2183|                2183|                2183|                2183|                2183|                2183|                2183|                2183|                2183|                2183|                2183|                2183|                2183|               2183|                2183|                2183|                2183|                2183|                2183|               2183|                2183|                2183|                2183|                2183|                2183|                2183|                2183|                2183|                2183|                2183|                2183|                2183|              2183|\n",
      "|   mean|  NULL|-0.00349134402198809|0.005595272560696...|-0.00926734402198...|1.493758803008365...|  0.0940488456305959| 0.510306917086578|5547.3440219880895| 2.74951122308751|-2.5900181437489698| 0.3612358387888241|-0.469458540972055| 0.04399039670213859|   4.562410621170428|-16085.435605884326| 2146.0175470841486| -3050.051775263304|0.05199159891900425|  0.4179590667569816|-0.00405859195866...|-0.00382542389241...|0.026058051894148056|-0.00486927347686...|0.001106033205376758|-0.06435519010535956|0.058660417773705946|-0.00382542389241...|0.026058051894148056|-0.00486927347686...|0.001106033205376758|-0.06435519010535956|0.058660417773705946|0.006021186964203915| 0.03030484717335991|0.003641693082913423|0.001473744779378...|-0.05935948511223075| 0.0836955217590471|0.006021186964203915| 0.03030484717335991|0.003641693082913423|0.001473744779378...|-0.05935948511223075| 0.0836955217590471|-0.00844685292192...|0.027309289150028736|-0.00572145945945...|0.001522681224124...|-0.08545982043060017| 0.04288115987173612|-0.00844685292192...|0.027309289150028736|-0.00572145945945...|0.001522681224124...|-0.08545982043060017| 0.04288115987173612|0.6097114063215758|\n",
      "| stddev|  NULL| 0.03998860691581047|0.042448924269042565| 0.05520390562434672|1.2060348304199297E7|0.048938494343127636|0.5000082924910659|  3206.01990394493|37.04689847513159|  56.95553295302428| 12.452284561049046|11.777498014326317| 0.06813126077182086|  60.406656933086644|  343620.8922700157|  57707.68293058365|  64358.25601534269|0.07186801867003571|  0.3344088341085545| 0.12098385621637878| 0.02301931304636843|0.020668982412984913|0.022386834891434282|0.001682622171348...|  0.0698197165270364| 0.05263029642593905| 0.02301931304636843|0.020668982412984913|0.022386834891434282|0.001682622171348...|  0.0698197165270364| 0.05263029642593905| 0.02314482587514201|0.023571498391790284| 0.02167675298595056|0.002096853985868...| 0.05412382121879549|0.07927830375688302| 0.02314482587514201|0.023571498391790284| 0.02167675298595056|0.002096853985868...| 0.05412382121879549|0.07927830375688302|0.018429210418739107|0.027879024236602157| 0.01609869601784158|0.008102968480216851| 0.10052588789476563|  0.0662723137850146|0.018429210418739107|0.027879024236602157| 0.01609869601784158|0.008102968480216851| 0.10052588789476563|  0.0662723137850146|0.4879267002291521|\n",
      "|    min|SA0297|            -0.32506|-0.33125200000000005| -1.7064960000000002|       1493733923208|0.002779026815734...|                 0|                37|            0.046|    -1189.148242908|-196.74403963600005|    -194.541182332|3.832910121565597E-4|0.036665548993042765|-7193394.3757892465|-441652.15987186116|-1274353.4538629786|                0.0|7.270306160177704E-4| -0.8077958545942326| -0.1748948571428571|1.720201169483402E-4|-0.17237200000000003|2.959092063492064E-8|           -0.508572|-0.07479200000000003| -0.1748948571428571|1.720201169483402E-4|-0.17237200000000003|2.959092063492064E-8|           -0.508572|-0.07479200000000003|-0.08674571428571429|1.756573745321078...|-0.08844000000000002|3.085551322751322...|-0.33125200000000005|          -0.004876|-0.08674571428571429|1.756573745321078...|-0.08844000000000002|3.085551322751322...|-0.33125200000000005|          -0.004876|-0.14455557142857142|1.697706513920296...|-0.11956000000000001|2.882207407407406E-8| -1.7064960000000002|-0.01413199999999...|-0.14455557142857142|1.697706513920296...|-0.11956000000000001|2.882207407407406E-8| -1.7064960000000002|-0.01413199999999...|               0.0|\n",
      "|    max|SA0297|  0.3392319999999999| 0.32948800000000006| 0.26326000000000005|       1493779536061| 0.18261948387395074|                 1|             11125|          959.336|  69.39068341199999| 207.95759861200003|188.13721915999997|  1.7411874295939542|  1242.2624260201605| 156303.79371163633| 1149885.7119528137|   421090.480895142| 1.7364373738571746|  2.2181798479722175|  0.8464713430507276| 0.04216928571428571| 0.12956792170209827|0.046119999999999994|0.016787846334201065|0.001620000000000...|  0.3392319999999999| 0.04216928571428571| 0.12956792170209827|0.046119999999999994|0.016787846334201065|0.001620000000000...|  0.3392319999999999|            0.180943| 0.13232907653143117|            0.168888| 0.01751098449566137| 0.10046000000000001| 0.6237039999999999|            0.180943| 0.13232907653143117|            0.168888| 0.01751098449566137| 0.10046000000000001| 0.6237039999999999| 0.10075071428571433|  0.4361002433711312|            0.100688| 0.19018342226835985| 0.05828400000000001|  1.1664119999999998| 0.10075071428571433|  0.4361002433711312|            0.100688| 0.19018342226835985| 0.05828400000000001|  1.1664119999999998|               1.0|\n",
      "+-------+------+--------------------+--------------------+--------------------+--------------------+--------------------+------------------+------------------+-----------------+-------------------+-------------------+------------------+--------------------+--------------------+-------------------+-------------------+-------------------+-------------------+--------------------+--------------------+--------------------+--------------------+--------------------+--------------------+--------------------+--------------------+--------------------+--------------------+--------------------+--------------------+--------------------+--------------------+--------------------+--------------------+--------------------+--------------------+--------------------+-------------------+--------------------+--------------------+--------------------+--------------------+--------------------+-------------------+--------------------+--------------------+--------------------+--------------------+--------------------+--------------------+--------------------+--------------------+--------------------+--------------------+--------------------+--------------------+------------------+\n"
     ]
    },
    {
     "name": "stderr",
     "output_type": "stream",
     "text": [
      "                                                                                \r"
     ]
    }
   ],
   "source": [
    "pred.describe().show()"
   ],
   "metadata": {
    "collapsed": false,
    "ExecuteTime": {
     "end_time": "2025-02-20T02:38:38.149407223Z",
     "start_time": "2025-02-20T02:38:16.526773393Z"
    }
   },
   "id": "d0afb482cf9d203b",
   "execution_count": 85
  },
  {
   "cell_type": "code",
   "outputs": [
    {
     "name": "stderr",
     "output_type": "stream",
     "text": [
      "                                                                                \r"
     ]
    }
   ],
   "source": [
    "# Plot predictions\n",
    "pred_pd = pred.select(\"time\", 'TAC_Reading', \"label\", \"prediction\").toPandas()\n",
    "# order by time\n",
    "pred_pd = pred_pd.sort_values(\"time\")"
   ],
   "metadata": {
    "collapsed": false,
    "ExecuteTime": {
     "end_time": "2025-02-20T02:38:41.685410321Z",
     "start_time": "2025-02-20T02:38:38.135443713Z"
    }
   },
   "id": "1d577fea8bdb6351",
   "execution_count": 86
  },
  {
   "cell_type": "code",
   "outputs": [
    {
     "data": {
      "text/plain": "<matplotlib.legend.Legend at 0x7b0e954fd910>"
     },
     "execution_count": 87,
     "metadata": {},
     "output_type": "execute_result"
    },
    {
     "data": {
      "text/plain": "<Figure size 1000x500 with 1 Axes>",
      "image/png": "[encoded data removed]"
     },
     "metadata": {},
     "output_type": "display_data"
    }
   ],
   "source": [
    "# Blue, if prediction is 0, red if prediction is 1\n",
    "plt.figure(figsize=(10, 5))\n",
    "plt.plot(pred_pd[\"time\"], pred_pd[\"TAC_Reading\"], label=\"TAC Reading\")\n",
    "plt.scatter(pred_pd[pred_pd[\"prediction\"] == 0][\"time\"], pred_pd[pred_pd[\"prediction\"] == 0][\"TAC_Reading\"], color=\"blue\", label=\"Prediction 0\")\n",
    "plt.scatter(pred_pd[pred_pd[\"prediction\"] == 1][\"time\"], pred_pd[pred_pd[\"prediction\"] == 1][\"TAC_Reading\"], color=\"red\", label=\"Prediction 1\")\n",
    "plt.legend()"
   ],
   "metadata": {
    "collapsed": false,
    "ExecuteTime": {
     "end_time": "2025-02-20T02:38:41.889565792Z",
     "start_time": "2025-02-20T02:38:41.601969425Z"
    }
   },
   "id": "6da655523231d9dd",
   "execution_count": 87
  },
  {
   "cell_type": "markdown",
   "source": [
    "## NN and CNN model approach\n",
    "Even in the paer it was mentioned, that neural networks does not challange the accuracy of the random forest model\n",
    "My experiments supported this statement, but I will show the approach"
   ],
   "metadata": {
    "collapsed": false
   },
   "id": "5559273911da8ba0"
  },
  {
   "cell_type": "code",
   "outputs": [
    {
     "name": "stderr",
     "output_type": "stream",
     "text": [
      "2025-02-20 03:38:42.155952: E external/local_xla/xla/stream_executor/cuda/cuda_fft.cc:477] Unable to register cuFFT factory: Attempting to register factory for plugin cuFFT when one has already been registered\n",
      "WARNING: All log messages before absl::InitializeLog() is called are written to STDERR\n",
      "E0000 00:00:1740019122.183268 3354307 cuda_dnn.cc:8310] Unable to register cuDNN factory: Attempting to register factory for plugin cuDNN when one has already been registered\n",
      "E0000 00:00:1740019122.192815 3354307 cuda_blas.cc:1418] Unable to register cuBLAS factory: Attempting to register factory for plugin cuBLAS when one has already been registered\n",
      "2025-02-20 03:38:42.226774: I tensorflow/core/platform/cpu_feature_guard.cc:210] This TensorFlow binary is optimized to use available CPU instructions in performance-critical operations.\n",
      "To enable the following instructions: AVX2 FMA, in other operations, rebuild TensorFlow with the appropriate compiler flags.\n"
     ]
    }
   ],
   "source": [
    "import tensorflow as tf\n",
    "from pyspark.sql.functions import pandas_udf, PandasUDFType, udf\n",
    "from pyspark.sql.types import ArrayType, FloatType\n",
    "import pandas as pd\n",
    "import numpy as np"
   ],
   "metadata": {
    "collapsed": false,
    "ExecuteTime": {
     "end_time": "2025-02-20T02:38:45.205288786Z",
     "start_time": "2025-02-20T02:38:41.879014672Z"
    }
   },
   "id": "948e778571715e1b",
   "execution_count": 88
  },
  {
   "cell_type": "code",
   "outputs": [],
   "source": [
    "# UDF for converting to numpy array\n",
    "def to_numpy(array):\n",
    "    return np.array(array, dtype=np.float32).tolist()\n",
    "to_numpy_udf = udf(to_numpy, ArrayType(ArrayType(FloatType())))"
   ],
   "metadata": {
    "collapsed": false,
    "ExecuteTime": {
     "end_time": "2025-02-20T02:38:45.213112424Z",
     "start_time": "2025-02-20T02:38:45.197336145Z"
    }
   },
   "id": "19b675e145c1994b",
   "execution_count": 89
  },
  {
   "cell_type": "code",
   "outputs": [
    {
     "data": {
      "text/plain": "Column<'feature'>"
     },
     "execution_count": 90,
     "metadata": {},
     "output_type": "execute_result"
    }
   ],
   "source": [
    "dataset.feature"
   ],
   "metadata": {
    "collapsed": false,
    "ExecuteTime": {
     "end_time": "2025-02-20T02:38:45.304103425Z",
     "start_time": "2025-02-20T02:38:45.201172911Z"
    }
   },
   "id": "daa51a9a549a0296",
   "execution_count": 90
  },
  {
   "cell_type": "code",
   "outputs": [],
   "source": [
    "dataset = dataset.withColumn(\"feature_numpy\", to_numpy_udf(dataset.feature))"
   ],
   "metadata": {
    "collapsed": false,
    "ExecuteTime": {
     "end_time": "2025-02-20T02:38:45.488858601Z",
     "start_time": "2025-02-20T02:38:45.218173301Z"
    }
   },
   "id": "483a2cfec5d55dc8",
   "execution_count": 91
  },
  {
   "cell_type": "code",
   "outputs": [
    {
     "name": "stderr",
     "output_type": "stream",
     "text": [
      "                                                                                \r"
     ]
    },
    {
     "data": {
      "text/plain": "11096"
     },
     "execution_count": 92,
     "metadata": {},
     "output_type": "execute_result"
    }
   ],
   "source": [
    "# Add batch_id to dataset\n",
    "batch_size = 64\n",
    "num_epochs = 5\n",
    "trainset, valset, testset = dataset.randomSplit([0.7, 0.15, 0.15], seed=42)\n",
    "dataset_len = trainset.count()\n",
    "trainset = trainset.withColumn(\"batch_id\", (F.randn() * (dataset_len // batch_size + 1)).cast(\"int\"))\n",
    "trainset.persist(StorageLevel.DISK_ONLY)\n",
    "dataset.count()"
   ],
   "metadata": {
    "collapsed": false,
    "ExecuteTime": {
     "end_time": "2025-02-20T02:39:08.926977370Z",
     "start_time": "2025-02-20T02:38:45.329353549Z"
    }
   },
   "id": "77b815cf918e85f1",
   "execution_count": 92
  },
  {
   "cell_type": "code",
   "outputs": [
    {
     "name": "stderr",
     "output_type": "stream",
     "text": [
      "                                                                                \r"
     ]
    },
    {
     "data": {
      "text/plain": "1654"
     },
     "execution_count": 93,
     "metadata": {},
     "output_type": "execute_result"
    }
   ],
   "source": [
    "valset_len = valset.count()\n",
    "valset = valset.withColumn(\"batch_id\", (F.randn() * (valset_len // batch_size + 1)).cast(\"int\"))\n",
    "valset.persist(StorageLevel.DISK_ONLY)\n",
    "valset.count()"
   ],
   "metadata": {
    "collapsed": false,
    "ExecuteTime": {
     "end_time": "2025-02-20T02:39:46.166571757Z",
     "start_time": "2025-02-20T02:39:08.921317968Z"
    }
   },
   "id": "939d147dee65b42d",
   "execution_count": 93
  },
  {
   "cell_type": "code",
   "outputs": [
    {
     "name": "stderr",
     "output_type": "stream",
     "text": [
      "                                                                                \r"
     ]
    }
   ],
   "source": [
    "batch_data_rdd = trainset.rdd.map(lambda row: (row[\"batch_id\"], (row[\"feature_numpy\"], row[\"label\"]))) \\\n",
    "                       .groupByKey() \\\n",
    "                       .mapValues(list) \\\n",
    "                       .sortByKey()"
   ],
   "metadata": {
    "collapsed": false,
    "ExecuteTime": {
     "end_time": "2025-02-20T02:40:35.542363599Z",
     "start_time": "2025-02-20T02:39:46.162429311Z"
    }
   },
   "id": "4f62337c04792d9",
   "execution_count": 94
  },
  {
   "cell_type": "code",
   "outputs": [
    {
     "name": "stderr",
     "output_type": "stream",
     "text": [
      "                                                                                \r"
     ]
    }
   ],
   "source": [
    "val_batch_data_rdd = valset.rdd.map(lambda row: (row[\"batch_id\"], (row[\"feature_numpy\"], row[\"label\"]))) \\\n",
    "                        .groupByKey() \\\n",
    "                        .mapValues(list) \\\n",
    "                        .sortByKey()"
   ],
   "metadata": {
    "collapsed": false,
    "ExecuteTime": {
     "end_time": "2025-02-20T02:41:01.940957781Z",
     "start_time": "2025-02-20T02:40:35.538523686Z"
    }
   },
   "id": "454a2f97cb72f4b4",
   "execution_count": 95
  },
  {
   "cell_type": "code",
   "outputs": [],
   "source": [
    "import torch\n",
    "import torch.nn as nn\n",
    "import torch.nn.functional as Fun\n",
    "import torch.optim as optim\n",
    "from torch.utils.data import DataLoader, TensorDataset"
   ],
   "metadata": {
    "collapsed": false,
    "ExecuteTime": {
     "end_time": "2025-02-20T02:41:04.081186610Z",
     "start_time": "2025-02-20T02:41:01.932092474Z"
    }
   },
   "id": "1ae1844fa1d6be29",
   "execution_count": 96
  },
  {
   "cell_type": "code",
   "outputs": [],
   "source": [
    "# NN model - first, a more simple model\n",
    "class NN(nn.Module):\n",
    "    def __init__(self):\n",
    "        super(NN, self).__init__()\n",
    "        self.fc1 = nn.Linear(1875, 256)\n",
    "        self.fc2 = nn.Linear(256, 256)\n",
    "        self.fc3 = nn.Linear(256, 128)\n",
    "        self.fc4 = nn.Linear(128, 32)\n",
    "        self.fc5 = nn.Linear(32, 1)\n",
    "        \n",
    "    def forward(self, x):\n",
    "        x = torch.flatten(x, 1)\n",
    "        x = Fun.relu(self.fc1(x))\n",
    "        x = Fun.relu(self.fc2(x))\n",
    "        x = Fun.relu(self.fc3(x))\n",
    "        x = Fun.relu(self.fc4(x))\n",
    "        x = torch.sigmoid(self.fc5(x))\n",
    "        return x        "
   ],
   "metadata": {
    "collapsed": false,
    "ExecuteTime": {
     "end_time": "2025-02-20T02:44:36.793850627Z",
     "start_time": "2025-02-20T02:44:36.649127095Z"
    }
   },
   "id": "22dd8732a197e049",
   "execution_count": 101
  },
  {
   "cell_type": "code",
   "outputs": [],
   "source": [
    "# CNN model - a more advanced model\n",
    "class CNN(nn.Module):\n",
    "    def __init__(self):\n",
    "        super(CNN, self).__init__()\n",
    "        \n",
    "        # Convolutional Block 1\n",
    "        self.conv1 = nn.Conv2d(1, 32, kernel_size=(7, 7), padding=3)\n",
    "        self.batchnorm1 = nn.BatchNorm2d(32)\n",
    "        self.conv2 = nn.Conv2d(32, 32, kernel_size=(7, 7), padding=3)\n",
    "        self.batchnorm2 = nn.BatchNorm2d(32)\n",
    "        self.pool1 = nn.MaxPool2d(kernel_size=(2, 2))  # Reduces (25,75) -> (12,37)\n",
    "        \n",
    "        # Convolutional Block 2\n",
    "        self.conv3 = nn.Conv2d(32, 64, kernel_size=(7, 7), padding=3)\n",
    "        self.batchnorm3 = nn.BatchNorm2d(64)\n",
    "        self.conv4 = nn.Conv2d(64, 64, kernel_size=(7, 7), padding=3)\n",
    "        self.batchnorm4 = nn.BatchNorm2d(64)\n",
    "        self.pool2 = nn.MaxPool2d(kernel_size=(2, 2))  # Reduces (12,37) -> (6,18)\n",
    "        \n",
    "        # Convolutional Block 3\n",
    "        self.conv5 = nn.Conv2d(64, 128, kernel_size=(7, 7), padding=3)\n",
    "        self.batchnorm5 = nn.BatchNorm2d(128)\n",
    "        self.conv6 = nn.Conv2d(128, 128, kernel_size=(7, 7), padding=3)\n",
    "        self.batchnorm6 = nn.BatchNorm2d(128)\n",
    "        self.pool3 = nn.MaxPool2d(kernel_size=(2, 2))  # Reduces (6,18) -> (3,9)\n",
    "        \n",
    "        # Global Average Pooling\n",
    "        self.global_avg_pool = nn.AdaptiveAvgPool2d(1)  # Output shape -> [batch, 128, 1, 1]\n",
    "        \n",
    "        # Fully Connected Layers\n",
    "        self.fc1 = nn.Linear(128, 64)\n",
    "        self.fc2 = nn.Linear(64, 1)\n",
    "        \n",
    "        # Dropout for regularization\n",
    "        self.dropout = nn.Dropout(0.3)\n",
    "        \n",
    "    def forward(self, x):\n",
    "        # Convolutional Block 1\n",
    "        x = Fun.selu(self.batchnorm1(self.conv1(x)))\n",
    "        x = Fun.selu(self.batchnorm2(self.conv2(x)))\n",
    "        x = self.pool1(x)\n",
    "        \n",
    "        # Convolutional Block 2\n",
    "        x = Fun.selu(self.batchnorm3(self.conv3(x)))\n",
    "        x = Fun.selu(self.batchnorm4(self.conv4(x)))\n",
    "        x = self.pool2(x)\n",
    "        \n",
    "        # Convolutional Block 3\n",
    "        x = Fun.selu(self.batchnorm5(self.conv5(x)))\n",
    "        x = Fun.selu(self.batchnorm6(self.conv6(x)))\n",
    "        x = self.pool3(x)\n",
    "        \n",
    "        # Global Average Pooling\n",
    "        x = self.global_avg_pool(x)\n",
    "        x = torch.flatten(x, 1)  # Flatten to [batch, 128]\n",
    "        \n",
    "        # Fully Connected Layers\n",
    "        x = self.dropout(Fun.selu(self.fc1(x)))\n",
    "        x = torch.sigmoid(self.fc2(x))  # Binary classification output\n",
    "        \n",
    "        return x\n"
   ],
   "metadata": {
    "collapsed": false,
    "ExecuteTime": {
     "end_time": "2025-02-20T02:44:37.332622549Z",
     "start_time": "2025-02-20T02:44:37.249109997Z"
    }
   },
   "id": "add41d3b883229f9",
   "execution_count": 102
  },
  {
   "cell_type": "code",
   "outputs": [],
   "source": [
    "# Training function\n",
    "def train_model_batch(model,batch_data_rdd, batch_size=256, num_epochs=10):\n",
    "    criterion = nn.BCELoss()  # Binary classification loss\n",
    "    optimizer = optim.Adam(model.parameters(), lr=0.001)\n",
    "    \n",
    "    loss_history = []\n",
    "    val_loss_history = []\n",
    "\n",
    "    for epoch in range(num_epochs):\n",
    "        print(f\"Epoch {epoch + 1}/{num_epochs}\")\n",
    "        \n",
    "        epoch_loss = 0\n",
    "        batch_count = 0\n",
    "        \n",
    "        model.train()\n",
    "        for batch_id, batch_data in batch_data_rdd.collect():\n",
    "            features = [torch.tensor(f, dtype=torch.float32).unsqueeze(0) for f, _ in batch_data]\n",
    "            labels = [torch.tensor(l, dtype=torch.float32) for _, l in batch_data]\n",
    "            \n",
    "            #Convert to tensors\n",
    "            inputs = torch.stack(features)  # [batch_size, 1, 25, 3]\n",
    "            labels = torch.tensor(labels, dtype=torch.float32).unsqueeze(1)\n",
    "            \n",
    "            optimizer.zero_grad()\n",
    "            outputs = model(inputs)\n",
    "            loss = criterion(outputs, labels)\n",
    "            loss.backward()\n",
    "            optimizer.step()\n",
    "            \n",
    "            epoch_loss += loss.item()\n",
    "            batch_count += 1\n",
    "          \n",
    "        # Validation loss    \n",
    "        model.eval()\n",
    "        val_epoch_loss = 0\n",
    "        val_batch_count = 0\n",
    "        for batch_id, batch_data in val_batch_data_rdd.collect():\n",
    "            features = [torch.tensor(f, dtype=torch.float32).unsqueeze(0) for f, _ in batch_data]\n",
    "            labels = [torch.tensor(l, dtype=torch.float32) for _, l in batch_data]\n",
    "            \n",
    "            #Convert to tensors\n",
    "            inputs = torch.stack(features)\n",
    "            labels = torch.tensor(labels, dtype=torch.float32).unsqueeze(1)\n",
    "            \n",
    "            outputs = model(inputs)\n",
    "            loss = criterion(outputs, labels)\n",
    "            \n",
    "            val_epoch_loss += loss.item()\n",
    "            val_batch_count += 1\n",
    "        \n",
    "            \n",
    "        avg_loss = epoch_loss / batch_count\n",
    "        loss_history.append(avg_loss)\n",
    "        avg_val_loss = val_epoch_loss / val_batch_count\n",
    "        val_loss_history.append(avg_val_loss)\n",
    "        print(f\"Epoch {epoch+1} loss: {avg_loss:.4f} val_loss: {avg_val_loss:.4f}\")\n",
    "    return model"
   ],
   "metadata": {
    "collapsed": false,
    "ExecuteTime": {
     "end_time": "2025-02-20T02:44:38.183262322Z",
     "start_time": "2025-02-20T02:44:38.077678929Z"
    }
   },
   "id": "c1439edd561b0e91",
   "execution_count": 103
  },
  {
   "cell_type": "code",
   "outputs": [
    {
     "name": "stdout",
     "output_type": "stream",
     "text": [
      "Epoch 1/5\n"
     ]
    },
    {
     "name": "stderr",
     "output_type": "stream",
     "text": [
      "                                                                                \r"
     ]
    },
    {
     "name": "stdout",
     "output_type": "stream",
     "text": [
      "Epoch 1 loss: 0.6236 val_loss: 0.6074\n",
      "Epoch 2/5\n"
     ]
    },
    {
     "name": "stderr",
     "output_type": "stream",
     "text": [
      "                                                                                \r"
     ]
    },
    {
     "name": "stdout",
     "output_type": "stream",
     "text": [
      "Epoch 2 loss: 0.5662 val_loss: 0.5530\n",
      "Epoch 3/5\n"
     ]
    },
    {
     "name": "stderr",
     "output_type": "stream",
     "text": [
      "                                                                                \r"
     ]
    },
    {
     "name": "stdout",
     "output_type": "stream",
     "text": [
      "Epoch 3 loss: 0.5436 val_loss: 0.5952\n",
      "Epoch 4/5\n"
     ]
    },
    {
     "name": "stderr",
     "output_type": "stream",
     "text": [
      "                                                                                \r"
     ]
    },
    {
     "name": "stdout",
     "output_type": "stream",
     "text": [
      "Epoch 4 loss: 0.5103 val_loss: 0.5689\n",
      "Epoch 5/5\n"
     ]
    },
    {
     "name": "stderr",
     "output_type": "stream",
     "text": [
      "                                                                                \r"
     ]
    },
    {
     "name": "stdout",
     "output_type": "stream",
     "text": [
      "Epoch 5 loss: 0.5188 val_loss: 0.5475\n"
     ]
    }
   ],
   "source": [
    "# Modell betanítása minden batch-en\n",
    "model = train_model_batch(NN(),batch_data_rdd, batch_size=batch_size, num_epochs=5)"
   ],
   "metadata": {
    "collapsed": false,
    "ExecuteTime": {
     "end_time": "2025-02-20T02:46:42.471616428Z",
     "start_time": "2025-02-20T02:44:39.032819862Z"
    }
   },
   "id": "416929e7b3d85372",
   "execution_count": 104
  },
  {
   "cell_type": "code",
   "outputs": [
    {
     "name": "stdout",
     "output_type": "stream",
     "text": [
      "Epoch 1/5\n"
     ]
    },
    {
     "name": "stderr",
     "output_type": "stream",
     "text": [
      "                                                                                \r"
     ]
    },
    {
     "name": "stdout",
     "output_type": "stream",
     "text": [
      "Epoch 1 loss: 0.7000 val_loss: 0.6931\n",
      "Epoch 2/5\n"
     ]
    },
    {
     "name": "stderr",
     "output_type": "stream",
     "text": [
      "                                                                                \r"
     ]
    },
    {
     "name": "stdout",
     "output_type": "stream",
     "text": [
      "Epoch 2 loss: 0.6842 val_loss: 0.6661\n",
      "Epoch 3/5\n"
     ]
    },
    {
     "name": "stderr",
     "output_type": "stream",
     "text": [
      "                                                                                \r"
     ]
    },
    {
     "name": "stdout",
     "output_type": "stream",
     "text": [
      "Epoch 3 loss: 0.6615 val_loss: 0.6551\n",
      "Epoch 4/5\n"
     ]
    },
    {
     "name": "stderr",
     "output_type": "stream",
     "text": [
      "                                                                                \r"
     ]
    },
    {
     "name": "stdout",
     "output_type": "stream",
     "text": [
      "Epoch 4 loss: 0.6548 val_loss: 0.6625\n",
      "Epoch 5/5\n"
     ]
    },
    {
     "name": "stderr",
     "output_type": "stream",
     "text": [
      "                                                                                \r"
     ]
    },
    {
     "name": "stdout",
     "output_type": "stream",
     "text": [
      "Epoch 5 loss: 0.6512 val_loss: 0.6758\n"
     ]
    }
   ],
   "source": [
    "cnn_model = train_model_batch(CNN(),batch_data_rdd, batch_size=batch_size, num_epochs=5)"
   ],
   "metadata": {
    "collapsed": false,
    "ExecuteTime": {
     "end_time": "2025-02-20T02:56:41.239269373Z",
     "start_time": "2025-02-20T02:46:42.464930488Z"
    }
   },
   "id": "e8b936d1793728f7",
   "execution_count": 105
  },
  {
   "cell_type": "code",
   "outputs": [],
   "source": [
    "# UDF for prediction\n",
    "@udf(\"float\")\n",
    "def predict(model, features):\n",
    "    with torch.no_grad():\n",
    "        input_tensor = torch.tensor([features], dtype=torch.float32).unsqueeze(0)  # [1, 1, 25, 3]\n",
    "        output = model(input_tensor)\n",
    "        # Round to 0 or 1\n",
    "        return torch.round(output).item()"
   ],
   "metadata": {
    "collapsed": false,
    "ExecuteTime": {
     "end_time": "2025-02-20T02:56:41.329569669Z",
     "start_time": "2025-02-20T02:56:41.209483394Z"
    }
   },
   "id": "301f2cb0fbd83c59",
   "execution_count": 106
  },
  {
   "cell_type": "code",
   "outputs": [],
   "source": [
    "# Prediction\n",
    "dataset = testset.withColumn(\"prediction\", predict(model,dataset.feature_numpy).cast(\"double\"))"
   ],
   "metadata": {
    "collapsed": false,
    "ExecuteTime": {
     "end_time": "2025-02-20T02:56:41.432463745Z",
     "start_time": "2025-02-20T02:56:41.242177403Z"
    }
   },
   "id": "c63652e7ae0a5b45",
   "execution_count": 107
  },
  {
   "cell_type": "code",
   "outputs": [
    {
     "name": "stderr",
     "output_type": "stream",
     "text": [
      "[Stage 773:====================================================>(200 + 1) / 201]\r"
     ]
    },
    {
     "name": "stdout",
     "output_type": "stream",
     "text": [
      "CNN accuracy: 0.6331904470300062\n"
     ]
    },
    {
     "name": "stderr",
     "output_type": "stream",
     "text": [
      "                                                                                \r"
     ]
    }
   ],
   "source": [
    "evaluator = MulticlassClassificationEvaluator(labelCol=\"label\", predictionCol=\"prediction\", metricName=\"accuracy\")\n",
    "accuracy = evaluator.evaluate(dataset)\n",
    "print(f\"NN accuracy: {accuracy}\")"
   ],
   "metadata": {
    "collapsed": false,
    "ExecuteTime": {
     "end_time": "2025-02-20T02:57:14.719513716Z",
     "start_time": "2025-02-20T02:56:41.436228715Z"
    }
   },
   "id": "de0f32c9a9c81008",
   "execution_count": 108
  },
  {
   "cell_type": "markdown",
   "source": [],
   "metadata": {
    "collapsed": false
   },
   "id": "b9ea1f86b3d0e431"
  },
  {
   "cell_type": "code",
   "outputs": [],
   "source": [
    "dataset = testset.withColumn(\"prediction\", predict(cnn_model,dataset.feature_numpy).cast(\"double\"))"
   ],
   "metadata": {
    "collapsed": false
   },
   "id": "3807239935105ef9",
   "execution_count": null
  },
  {
   "cell_type": "code",
   "outputs": [],
   "source": [
    "evaluator = MulticlassClassificationEvaluator(labelCol=\"label\", predictionCol=\"prediction\", metricName=\"accuracy\")\n",
    "accuracy = evaluator.evaluate(dataset)\n",
    "print(f\"CNN accuracy: {accuracy}\")"
   ],
   "metadata": {
    "collapsed": false
   },
   "id": "2d7efcfc41b47fa"
  }
 ],
 "metadata": {
  "kernelspec": {
   "display_name": "Python 3",
   "language": "python",
   "name": "python3"
  },
  "language_info": {
   "codemirror_mode": {
    "name": "ipython",
    "version": 2
   },
   "file_extension": ".py",
   "mimetype": "text/x-python",
   "name": "python",
   "nbconvert_exporter": "python",
   "pygments_lexer": "ipython2",
   "version": "2.7.6"
  }
 },
 "nbformat": 4,
 "nbformat_minor": 5
}
